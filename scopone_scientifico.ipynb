{
 "cells": [
  {
   "cell_type": "code",
   "execution_count": 1,
   "metadata": {
    "execution": {
     "iopub.execute_input": "2021-11-07T14:54:26.966260Z",
     "iopub.status.busy": "2021-11-07T14:54:26.955923Z",
     "iopub.status.idle": "2021-11-07T14:54:27.167512Z",
     "shell.execute_reply": "2021-11-07T14:54:27.165469Z",
     "shell.execute_reply.started": "2021-11-07T14:54:26.964218Z"
    },
    "tags": []
   },
   "outputs": [],
   "source": [
    "%load_ext autoreload\n",
    "%autoreload 2"
   ]
  },
  {
   "cell_type": "code",
   "execution_count": 2,
   "metadata": {
    "execution": {
     "iopub.execute_input": "2021-11-07T14:54:27.167512Z",
     "iopub.status.busy": "2021-11-07T14:54:27.167512Z",
     "iopub.status.idle": "2021-11-07T14:54:30.079964Z",
     "shell.execute_reply": "2021-11-07T14:54:30.076675Z",
     "shell.execute_reply.started": "2021-11-07T14:54:27.167512Z"
    },
    "tags": []
   },
   "outputs": [],
   "source": [
    "import plotly.graph_objects as go\n",
    "import pandas as pd\n",
    "\n",
    "pd.options.plotting.backend = 'plotly'"
   ]
  },
  {
   "cell_type": "code",
   "execution_count": 3,
   "metadata": {
    "execution": {
     "iopub.execute_input": "2021-11-07T14:54:38.544074Z",
     "iopub.status.busy": "2021-11-07T14:54:38.544074Z",
     "iopub.status.idle": "2021-11-07T14:54:38.671540Z",
     "shell.execute_reply": "2021-11-07T14:54:38.669540Z",
     "shell.execute_reply.started": "2021-11-07T14:54:38.544074Z"
    },
    "tags": []
   },
   "outputs": [],
   "source": [
    "from scopone_scientifico import Tournament"
   ]
  },
  {
   "cell_type": "code",
   "execution_count": 5,
   "metadata": {
    "execution": {
     "iopub.execute_input": "2021-11-07T14:54:49.764128Z",
     "iopub.status.busy": "2021-11-07T14:54:49.764128Z",
     "iopub.status.idle": "2021-11-07T14:54:57.225551Z",
     "shell.execute_reply": "2021-11-07T14:54:57.225551Z",
     "shell.execute_reply.started": "2021-11-07T14:54:49.764128Z"
    },
    "tags": []
   },
   "outputs": [],
   "source": [
    "tournament = Tournament(\n",
    "    team1=('A', 'B'), \n",
    "    team2=('C', 'D'),\n",
    "    n_match=100\n",
    ")\n",
    "\n",
    "tournament.run()"
   ]
  }
 ],
 "metadata": {
  "kernelspec": {
   "display_name": "uc11",
   "language": "python",
   "name": "uc11"
  },
  "language_info": {
   "codemirror_mode": {
    "name": "ipython",
    "version": 3
   },
   "file_extension": ".py",
   "mimetype": "text/x-python",
   "name": "python",
   "nbconvert_exporter": "python",
   "pygments_lexer": "ipython3",
   "version": "3.8.8"
  }
 },
 "nbformat": 4,
 "nbformat_minor": 4
}
