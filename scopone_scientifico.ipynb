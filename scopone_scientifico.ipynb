{
 "cells": [
  {
   "cell_type": "code",
   "execution_count": 1,
   "metadata": {},
   "outputs": [],
   "source": [
    "import random\n",
    "import pandas as pd\n",
    "\n",
    "from loguru import logger\n",
    "import sys\n",
    "logger.remove()\n",
    "logger.add(sys.stderr, level=\"SUCCESS\")\n",
    "\n",
    "import itertools\n",
    "from dataclasses import dataclass, field\n",
    "from typing import List, Optional, Tuple\n",
    "from tqdm.notebook import tqdm\n",
    "\n",
    "import matplotlib.pyplot as plt\n",
    "plt.style.use('dark_background')\n",
    "\n",
    "import plotly.graph_objects as go"
   ]
  },
  {
   "cell_type": "code",
   "execution_count": 2,
   "metadata": {},
   "outputs": [],
   "source": [
    "RANKS = {1: 'A', 2: '2', 3: '3', 4: '4', 5: '5', 6: '6', 7: '7', 8: 'J', 9: 'Q', 10: 'K'}\n",
    "SUITS = {'P': '♠', 'F': '♣', 'D': '♢', 'C': '♡'}\n",
    "\n",
    "\n",
    "@dataclass\n",
    "class Card:    \n",
    "    rank: int\n",
    "    suit: str\n",
    "        \n",
    "    def __repr__(self):\n",
    "        return f\"{RANKS[self.rank]}{SUITS[self.suit]}\"\n",
    "    \n",
    "    def __eq__(self, other):\n",
    "        return self.rank == other.rank and self.suit == other.suit\n",
    "    \n",
    "    def __lt__(self, other):\n",
    "        _SUITS = list(SUITS.keys())\n",
    "        return (\n",
    "            self.rank < other.rank or \n",
    "            (self.rank == other.rank and _SUITS.index(self.suit) < _SUITS.index(other.suit))\n",
    "        )\n",
    "    \n",
    "    def __hash__(self):\n",
    "        return hash(self.__repr__())\n",
    "    \n",
    "def make_cards():\n",
    "    return [Card(rank, suit) for suit in SUITS for rank in RANKS]\n",
    "        \n",
    "@dataclass        \n",
    "class Deck:    \n",
    "    cards: List[Card] = field(default_factory=make_cards)\n",
    "    \n",
    "    def __len__(self):\n",
    "        return len(self.cards)\n",
    "    \n",
    "    def __getitem__(self, position):\n",
    "        return self.cards[position]\n",
    "    \n",
    "    def shuffle(self):\n",
    "        random.shuffle(self.cards)\n",
    "\n",
    "class Player:\n",
    "    \n",
    "    def __init__(self, name: str):        \n",
    "        self.name = name\n",
    "        self.reset()\n",
    "        \n",
    "    def reset(self):\n",
    "        self.hand = []\n",
    "        self.loot = []\n",
    "        self.scope = 0        \n",
    "        \n",
    "    def __repr__(self):\n",
    "        return f\"{self.name}\"\n",
    "    \n",
    "    def get_options(self, table):\n",
    "        return {\n",
    "            combo: sum(card.rank for card in combo)\n",
    "            for combo in filter(\n",
    "                lambda x: 0 < sum(card.rank for card in x) and sum(card.rank for card in x) <= 10, \n",
    "                itertools.chain.from_iterable(itertools.combinations(table, r) for r in range(len(table) + 1))\n",
    "            )}\n",
    "    \n",
    "    def choose_card(self):\n",
    "        random.shuffle(self.hand)\n",
    "        return self.hand.pop()        \n",
    "        \n",
    "    def play(self, table: list):        \n",
    "        _options = self.get_options(table)\n",
    "        chosen_card = self.choose_card()               \n",
    "        options = {combo: value for combo, value in _options.items() if value == chosen_card.rank}\n",
    "        if options:\n",
    "            loot = list(list(options.keys())[0]) # migliorare il criterio di scelta...\n",
    "            logger.info(f\"{self.name} prende {loot} da {table} giocando {chosen_card}.\")\n",
    "            table = list(set(table) - set(loot))            \n",
    "            self.loot.extend(loot + [chosen_card])\n",
    "            if not table:\n",
    "                logger.info(\"Scopa!\")\n",
    "                self.scope += 1\n",
    "        else:\n",
    "            table.append(chosen_card)\n",
    "        return table\n",
    "\n",
    "class Team:\n",
    "    \n",
    "    def __init__(self, name1: str, name2: str):\n",
    "        self.players = [Player(name1), Player(name2)]\n",
    "        self.score = 0\n",
    "        \n",
    "    def reset(self):\n",
    "        for player in self.players:\n",
    "            player.reset()\n",
    "        \n",
    "    def __len__(self):\n",
    "        return len(self.players)\n",
    "    \n",
    "    def __getitem__(self, position):\n",
    "        return self.players[position]\n",
    "    \n",
    "    def __repr__(self):\n",
    "        return f\"{self.__class__.__name__}({', '.join(player.__repr__() for player in self.players)})\"\n",
    "    \n",
    "    def count_scope(self):\n",
    "        scope = sum(player.scope for player in self.players)\n",
    "        if scope:\n",
    "            logger.info(f\"+{scope} scope\")\n",
    "        return scope\n",
    "    \n",
    "    def compute_denari(self):\n",
    "        denari = 0\n",
    "        _denari = len(list(filter(lambda x: x.suit == 'D', self.loot)))\n",
    "        if _denari >= 5:\n",
    "            if _denari == 5:\n",
    "                logger.info(\"Denari pari\")\n",
    "            elif _denari < 10:\n",
    "                denari = 1\n",
    "                logger.info(\"+1 denari\")\n",
    "            if _denari == 10:\n",
    "                denari = 1 + 21\n",
    "                logger.info(\"CAPPOTTO!\")\n",
    "        return denari\n",
    "    \n",
    "    def compute_settebello(self):\n",
    "        settebello = 0\n",
    "        if Card(7, 'D') in self.loot:\n",
    "            settebello = 1\n",
    "            logger.info(\"+1 settebello\")\n",
    "        return settebello        \n",
    "    \n",
    "    def compute_carte(self):\n",
    "        carte = 0\n",
    "        if len(self.loot) > 20:\n",
    "            carte = 1\n",
    "            logger.info(\"+1 carte\")\n",
    "        elif len(self.loot) == 20:\n",
    "            logger.info(\"Carte pari\") \n",
    "        return carte        \n",
    "    \n",
    "    def compute_primiera(self):\n",
    "        primiera = 0\n",
    "        sette = list(filter(lambda x: x.rank == 7, self.loot))\n",
    "        sei = list(filter(lambda x: x.rank == 6, self.loot))\n",
    "        cinque = list(filter(lambda x: x.rank == 5, self.loot))\n",
    "        assi = list(filter(lambda x: x.rank == 1, self.loot))\n",
    "        # implementa primiera\n",
    "        return primiera\n",
    "    \n",
    "    def compute_score(self):\n",
    "        logger.info(self)\n",
    "        self.loot = self.players[0].loot + self.players[1].loot\n",
    "        scope = self.count_scope()               \n",
    "        carte = self.compute_carte()\n",
    "        denari = self.compute_denari()        \n",
    "        settebello = self.compute_settebello()        \n",
    "        primiera = self.compute_primiera()\n",
    "        _score = scope + carte + denari + settebello + primiera\n",
    "        self.score += _score\n",
    "        return _score\n",
    "\n",
    "class Hand:\n",
    "    \n",
    "    def __init__(self, teams: Tuple[Team]):\n",
    "        self.teams = teams\n",
    "        self.reset()\n",
    "    \n",
    "    def reset(self):\n",
    "        for team in self.teams:\n",
    "            team.reset()\n",
    "        self.players = list(player for team in self.teams for player in team)\n",
    "        first_player = random.choice(tuple(player for player in self.teams[0]))\n",
    "        second_player = random.choice(tuple(player for player in self.teams[1]))\n",
    "        self.rotation = (\n",
    "            first_player, \n",
    "            second_player, \n",
    "            (set(self.teams[0]) - set([first_player])).pop(),\n",
    "            (set(self.teams[1]) - set([second_player])).pop()\n",
    "            )\n",
    "        self.deck = Deck()\n",
    "        self.table = []\n",
    "        self.last_looter: Optional[Player] = None\n",
    "        \n",
    "    def distribute_cards(self):        \n",
    "        cards = self.deck.cards\n",
    "        for player in self.players:\n",
    "            player.hand = sorted(random.sample(cards, int(len(self.deck.cards)/len(self.players))))\n",
    "            cards = tuple(set(cards) - set(player.hand))\n",
    "            \n",
    "    def run(self):\n",
    "        self.reset()\n",
    "        self.distribute_cards()\n",
    "        for n in range(len(self.players[0].hand)):\n",
    "            logger.info(f\"Turno {n + 1}:\")\n",
    "            for player in self.rotation:\n",
    "                _table = player.play(self.table)                \n",
    "                if len(_table) < len(self.table):\n",
    "                    self.last_looter_idx = self.players.index(player)\n",
    "                self.table = _table\n",
    "        if self.table:\n",
    "            logger.info(f\"{self.players[self.last_looter_idx]} pulisce il tavolo {self.table}.\")\n",
    "            self.players[self.last_looter_idx].loot.extend(self.table)            \n",
    "            self.table = []\n",
    "            \n",
    "        for player in self.players:\n",
    "            logger.info(f\"{player.name}: {', '.join(card.__repr__() for card in player.loot)}\")\n",
    "        \n",
    "        return {team: team.compute_score() for team in self.teams}\n",
    "            \n",
    "class Match:\n",
    "    \n",
    "    def __init__(self, team1: tuple, team2: tuple):\n",
    "        self.teams2scores = {Team(*team1): 0, Team(*team2): 0}\n",
    "        self.goal = 21\n",
    "        self.scoreboard = pd.DataFrame(columns=[team.__repr__() for team in self.teams2scores])\n",
    "        \n",
    "    def run(self):\n",
    "        for n in itertools.count():\n",
    "            if all(score < self.goal for score in self.teams2scores.values()):\n",
    "                hand = Hand(tuple(self.teams2scores.keys()))\n",
    "                scores = hand.run()\n",
    "                for team in self.teams2scores:\n",
    "                    self.teams2scores[team] += scores[team]\n",
    "                self.scoreboard.loc[n + 1, :] = [self.teams2scores[team] for team in self.teams2scores]\n",
    "                logger.info(self.teams2scores)\n",
    "            else:\n",
    "                self.scoreboard.index.name = 'hand'\n",
    "                break\n",
    "                \n",
    "class Tournament:\n",
    "    \n",
    "    def __init__(\n",
    "        self, \n",
    "        team1: tuple, \n",
    "        team2: tuple,\n",
    "        n_match: int = 10\n",
    "        ):\n",
    "        self.team1 = team1\n",
    "        self.team2 = team2\n",
    "        self.n_match = n_match\n",
    "        self.matches = []\n",
    "        \n",
    "    def run(self):\n",
    "        for n in tqdm(range(self.n_match), \"Partite: \"):\n",
    "            match = Match(team1=self.team1, team2=self.team2)\n",
    "            match.run()\n",
    "            self.matches.append(match)\n",
    "        self.scoreboard = pd.DataFrame(\n",
    "            data=[len(match.scoreboard) for match in self.matches],\n",
    "            columns=['hands'],\n",
    "            index=range(1, self.n_match + 1)\n",
    "            )"
   ]
  },
  {
   "cell_type": "code",
   "execution_count": 6,
   "metadata": {},
   "outputs": [
    {
     "data": {
      "application/vnd.jupyter.widget-view+json": {
       "model_id": "5e745297ee0041a4889a70ff9b5fa208",
       "version_major": 2,
       "version_minor": 0
      },
      "text/plain": [
       "HBox(children=(HTML(value='Partite: '), FloatProgress(value=0.0, max=1000.0), HTML(value='')))"
      ]
     },
     "metadata": {},
     "output_type": "display_data"
    },
    {
     "name": "stdout",
     "output_type": "stream",
     "text": [
      "\n"
     ]
    }
   ],
   "source": [
    "tournament = Tournament(\n",
    "    team1=('A', 'B'), \n",
    "    team2=('C', 'D'),\n",
    "    n_match=1000\n",
    ")\n",
    "tournament.run()"
   ]
  },
  {
   "cell_type": "code",
   "execution_count": 24,
   "metadata": {},
   "outputs": [
    {
     "data": {
      "text/plain": [
       "[7♢, 7♡, 7♠]"
      ]
     },
     "execution_count": 24,
     "metadata": {},
     "output_type": "execute_result"
    }
   ],
   "source": [
    "team = list(tournament.matches[0].teams2scores.keys())[0]\n",
    "list(filter(lambda x: x.rank == 7, team.loot))"
   ]
  },
  {
   "cell_type": "code",
   "execution_count": 7,
   "metadata": {},
   "outputs": [
    {
     "data": {
      "application/vnd.plotly.v1+json": {
       "config": {
        "plotlyServerURL": "https://plot.ly"
       },
       "data": [
        {
         "type": "histogram",
         "x": [
          10,
          9,
          12,
          9,
          11,
          10,
          8,
          10,
          10,
          9,
          10,
          12,
          11,
          11,
          11,
          10,
          9,
          10,
          12,
          9,
          12,
          9,
          11,
          10,
          8,
          9,
          13,
          9,
          11,
          10,
          12,
          10,
          13,
          11,
          10,
          10,
          11,
          13,
          11,
          14,
          11,
          10,
          10,
          13,
          12,
          10,
          11,
          11,
          8,
          7,
          10,
          9,
          10,
          10,
          11,
          9,
          13,
          11,
          9,
          8,
          3,
          11,
          11,
          12,
          12,
          10,
          10,
          11,
          12,
          10,
          10,
          10,
          11,
          11,
          8,
          8,
          10,
          9,
          10,
          12,
          8,
          11,
          11,
          9,
          12,
          9,
          12,
          11,
          7,
          11,
          9,
          11,
          11,
          13,
          12,
          10,
          12,
          11,
          10,
          10,
          4,
          9,
          10,
          12,
          10,
          12,
          10,
          9,
          10,
          12,
          9,
          10,
          9,
          11,
          11,
          7,
          10,
          11,
          10,
          11,
          10,
          12,
          11,
          9,
          11,
          11,
          13,
          9,
          7,
          10,
          11,
          9,
          11,
          11,
          11,
          12,
          11,
          11,
          10,
          8,
          10,
          9,
          12,
          9,
          12,
          10,
          10,
          11,
          11,
          12,
          11,
          11,
          9,
          11,
          9,
          12,
          8,
          7,
          8,
          7,
          12,
          9,
          8,
          11,
          8,
          11,
          9,
          11,
          10,
          10,
          10,
          10,
          12,
          11,
          10,
          14,
          11,
          11,
          10,
          12,
          11,
          12,
          14,
          10,
          10,
          9,
          10,
          11,
          10,
          11,
          10,
          11,
          11,
          10,
          13,
          10,
          10,
          10,
          9,
          8,
          11,
          12,
          10,
          11,
          11,
          13,
          10,
          9,
          10,
          12,
          12,
          12,
          12,
          10,
          13,
          11,
          11,
          11,
          10,
          7,
          10,
          8,
          13,
          10,
          11,
          8,
          8,
          10,
          11,
          12,
          11,
          9,
          11,
          10,
          11,
          14,
          8,
          12,
          12,
          11,
          11,
          11,
          8,
          9,
          12,
          11,
          13,
          11,
          10,
          10,
          10,
          13,
          10,
          11,
          10,
          10,
          10,
          1,
          9,
          10,
          13,
          9,
          10,
          10,
          11,
          10,
          11,
          11,
          10,
          10,
          11,
          11,
          11,
          13,
          11,
          9,
          10,
          12,
          8,
          9,
          12,
          10,
          12,
          9,
          8,
          9,
          7,
          7,
          10,
          10,
          9,
          10,
          11,
          11,
          7,
          13,
          11,
          11,
          11,
          11,
          11,
          10,
          8,
          7,
          11,
          10,
          13,
          10,
          11,
          11,
          11,
          9,
          8,
          11,
          10,
          8,
          12,
          10,
          13,
          10,
          8,
          10,
          12,
          9,
          10,
          10,
          9,
          11,
          8,
          10,
          8,
          11,
          7,
          8,
          9,
          9,
          12,
          8,
          11,
          10,
          13,
          9,
          11,
          11,
          10,
          10,
          12,
          13,
          8,
          11,
          12,
          8,
          11,
          9,
          10,
          12,
          9,
          11,
          12,
          7,
          13,
          13,
          12,
          7,
          12,
          11,
          12,
          10,
          10,
          8,
          10,
          11,
          13,
          9,
          9,
          10,
          10,
          11,
          9,
          13,
          10,
          12,
          11,
          11,
          12,
          11,
          9,
          12,
          11,
          12,
          11,
          11,
          10,
          10,
          9,
          11,
          10,
          8,
          13,
          8,
          13,
          3,
          8,
          11,
          11,
          8,
          12,
          12,
          10,
          10,
          9,
          9,
          13,
          9,
          14,
          12,
          11,
          12,
          11,
          12,
          11,
          10,
          9,
          11,
          11,
          10,
          9,
          9,
          11,
          11,
          8,
          9,
          9,
          11,
          11,
          9,
          10,
          10,
          12,
          11,
          10,
          11,
          7,
          8,
          11,
          10,
          9,
          10,
          10,
          11,
          10,
          12,
          12,
          9,
          13,
          8,
          11,
          11,
          9,
          11,
          8,
          8,
          13,
          9,
          10,
          12,
          10,
          12,
          10,
          13,
          11,
          11,
          10,
          7,
          10,
          13,
          10,
          9,
          9,
          8,
          9,
          12,
          9,
          11,
          12,
          11,
          8,
          10,
          9,
          11,
          10,
          9,
          11,
          5,
          11,
          11,
          9,
          10,
          10,
          11,
          10,
          11,
          11,
          10,
          13,
          9,
          11,
          11,
          10,
          10,
          10,
          13,
          11,
          12,
          8,
          5,
          7,
          12,
          11,
          10,
          8,
          10,
          13,
          6,
          10,
          9,
          8,
          9,
          9,
          10,
          3,
          12,
          10,
          10,
          12,
          1,
          12,
          12,
          11,
          11,
          7,
          9,
          11,
          10,
          5,
          11,
          12,
          9,
          12,
          11,
          13,
          8,
          13,
          11,
          11,
          11,
          11,
          12,
          9,
          10,
          9,
          11,
          9,
          11,
          11,
          14,
          7,
          12,
          11,
          9,
          10,
          11,
          10,
          11,
          10,
          9,
          9,
          12,
          9,
          12,
          9,
          10,
          12,
          8,
          11,
          11,
          11,
          8,
          12,
          8,
          8,
          11,
          13,
          12,
          11,
          11,
          11,
          8,
          10,
          10,
          11,
          8,
          11,
          6,
          12,
          10,
          11,
          12,
          8,
          11,
          12,
          10,
          11,
          11,
          14,
          9,
          12,
          11,
          13,
          10,
          6,
          11,
          12,
          11,
          12,
          12,
          4,
          11,
          10,
          10,
          6,
          11,
          10,
          8,
          8,
          10,
          11,
          12,
          8,
          13,
          11,
          11,
          11,
          9,
          9,
          9,
          11,
          11,
          5,
          9,
          12,
          11,
          12,
          12,
          10,
          9,
          9,
          7,
          10,
          11,
          9,
          12,
          11,
          9,
          12,
          9,
          10,
          9,
          9,
          11,
          11,
          11,
          9,
          9,
          11,
          14,
          11,
          13,
          12,
          10,
          10,
          10,
          12,
          12,
          10,
          10,
          11,
          10,
          10,
          13,
          9,
          8,
          9,
          13,
          11,
          9,
          10,
          10,
          12,
          10,
          11,
          8,
          11,
          8,
          13,
          11,
          10,
          12,
          10,
          12,
          9,
          8,
          12,
          10,
          8,
          10,
          12,
          9,
          7,
          10,
          9,
          11,
          12,
          8,
          10,
          11,
          3,
          11,
          9,
          13,
          11,
          3,
          11,
          8,
          10,
          11,
          11,
          10,
          13,
          10,
          10,
          4,
          8,
          9,
          12,
          9,
          9,
          10,
          12,
          9,
          9,
          11,
          10,
          11,
          12,
          12,
          12,
          11,
          10,
          8,
          10,
          12,
          10,
          11,
          10,
          9,
          11,
          11,
          12,
          11,
          11,
          11,
          12,
          10,
          12,
          13,
          9,
          12,
          10,
          11,
          10,
          12,
          10,
          13,
          8,
          9,
          10,
          10,
          10,
          13,
          8,
          13,
          14,
          10,
          9,
          11,
          13,
          11,
          12,
          9,
          11,
          10,
          11,
          11,
          9,
          11,
          12,
          2,
          10,
          12,
          12,
          10,
          9,
          5,
          8,
          8,
          11,
          11,
          11,
          10,
          12,
          11,
          11,
          9,
          9,
          13,
          11,
          14,
          13,
          10,
          12,
          11,
          10,
          8,
          10,
          10,
          10,
          8,
          13,
          10,
          9,
          10,
          11,
          9,
          11,
          12,
          9,
          12,
          11,
          9,
          11,
          13,
          9,
          6,
          12,
          11,
          11,
          11,
          12,
          8,
          10,
          11,
          8,
          11,
          11,
          6,
          12,
          11,
          11,
          11,
          11,
          10,
          11,
          12,
          12,
          8,
          10,
          11,
          6,
          12,
          13,
          11,
          12,
          8,
          10,
          10,
          10,
          11,
          13,
          14,
          12,
          10,
          10,
          11,
          12,
          9,
          7,
          9,
          11,
          9,
          9,
          11,
          13,
          9,
          8,
          9,
          11,
          10,
          12,
          8,
          10,
          12,
          11,
          9,
          10,
          10,
          10,
          13,
          10,
          11,
          10,
          10,
          10,
          10,
          11,
          11,
          8,
          9,
          13,
          9,
          2,
          11,
          11,
          8,
          8,
          11,
          13,
          10,
          11,
          1,
          10,
          13,
          10,
          12,
          4,
          7,
          12,
          13,
          9,
          11,
          10,
          11,
          10,
          13,
          8,
          9,
          10,
          9,
          10,
          11,
          12,
          8,
          10,
          1,
          10,
          11,
          10,
          11,
          8,
          9,
          10,
          7,
          9,
          10,
          10,
          7,
          12,
          9,
          9,
          8,
          11,
          12,
          9,
          11,
          10,
          11,
          10,
          12,
          8,
          12,
          12,
          9,
          11,
          12,
          10,
          11,
          11,
          12,
          10,
          14
         ]
        }
       ],
       "layout": {
        "autosize": true,
        "template": {
         "data": {
          "bar": [
           {
            "error_x": {
             "color": "#2a3f5f"
            },
            "error_y": {
             "color": "#2a3f5f"
            },
            "marker": {
             "line": {
              "color": "#E5ECF6",
              "width": 0.5
             }
            },
            "type": "bar"
           }
          ],
          "barpolar": [
           {
            "marker": {
             "line": {
              "color": "#E5ECF6",
              "width": 0.5
             }
            },
            "type": "barpolar"
           }
          ],
          "carpet": [
           {
            "aaxis": {
             "endlinecolor": "#2a3f5f",
             "gridcolor": "white",
             "linecolor": "white",
             "minorgridcolor": "white",
             "startlinecolor": "#2a3f5f"
            },
            "baxis": {
             "endlinecolor": "#2a3f5f",
             "gridcolor": "white",
             "linecolor": "white",
             "minorgridcolor": "white",
             "startlinecolor": "#2a3f5f"
            },
            "type": "carpet"
           }
          ],
          "choropleth": [
           {
            "colorbar": {
             "outlinewidth": 0,
             "ticks": ""
            },
            "type": "choropleth"
           }
          ],
          "contour": [
           {
            "colorbar": {
             "outlinewidth": 0,
             "ticks": ""
            },
            "colorscale": [
             [
              0,
              "#0d0887"
             ],
             [
              0.1111111111111111,
              "#46039f"
             ],
             [
              0.2222222222222222,
              "#7201a8"
             ],
             [
              0.3333333333333333,
              "#9c179e"
             ],
             [
              0.4444444444444444,
              "#bd3786"
             ],
             [
              0.5555555555555556,
              "#d8576b"
             ],
             [
              0.6666666666666666,
              "#ed7953"
             ],
             [
              0.7777777777777778,
              "#fb9f3a"
             ],
             [
              0.8888888888888888,
              "#fdca26"
             ],
             [
              1,
              "#f0f921"
             ]
            ],
            "type": "contour"
           }
          ],
          "contourcarpet": [
           {
            "colorbar": {
             "outlinewidth": 0,
             "ticks": ""
            },
            "type": "contourcarpet"
           }
          ],
          "heatmap": [
           {
            "colorbar": {
             "outlinewidth": 0,
             "ticks": ""
            },
            "colorscale": [
             [
              0,
              "#0d0887"
             ],
             [
              0.1111111111111111,
              "#46039f"
             ],
             [
              0.2222222222222222,
              "#7201a8"
             ],
             [
              0.3333333333333333,
              "#9c179e"
             ],
             [
              0.4444444444444444,
              "#bd3786"
             ],
             [
              0.5555555555555556,
              "#d8576b"
             ],
             [
              0.6666666666666666,
              "#ed7953"
             ],
             [
              0.7777777777777778,
              "#fb9f3a"
             ],
             [
              0.8888888888888888,
              "#fdca26"
             ],
             [
              1,
              "#f0f921"
             ]
            ],
            "type": "heatmap"
           }
          ],
          "heatmapgl": [
           {
            "colorbar": {
             "outlinewidth": 0,
             "ticks": ""
            },
            "colorscale": [
             [
              0,
              "#0d0887"
             ],
             [
              0.1111111111111111,
              "#46039f"
             ],
             [
              0.2222222222222222,
              "#7201a8"
             ],
             [
              0.3333333333333333,
              "#9c179e"
             ],
             [
              0.4444444444444444,
              "#bd3786"
             ],
             [
              0.5555555555555556,
              "#d8576b"
             ],
             [
              0.6666666666666666,
              "#ed7953"
             ],
             [
              0.7777777777777778,
              "#fb9f3a"
             ],
             [
              0.8888888888888888,
              "#fdca26"
             ],
             [
              1,
              "#f0f921"
             ]
            ],
            "type": "heatmapgl"
           }
          ],
          "histogram": [
           {
            "marker": {
             "colorbar": {
              "outlinewidth": 0,
              "ticks": ""
             }
            },
            "type": "histogram"
           }
          ],
          "histogram2d": [
           {
            "colorbar": {
             "outlinewidth": 0,
             "ticks": ""
            },
            "colorscale": [
             [
              0,
              "#0d0887"
             ],
             [
              0.1111111111111111,
              "#46039f"
             ],
             [
              0.2222222222222222,
              "#7201a8"
             ],
             [
              0.3333333333333333,
              "#9c179e"
             ],
             [
              0.4444444444444444,
              "#bd3786"
             ],
             [
              0.5555555555555556,
              "#d8576b"
             ],
             [
              0.6666666666666666,
              "#ed7953"
             ],
             [
              0.7777777777777778,
              "#fb9f3a"
             ],
             [
              0.8888888888888888,
              "#fdca26"
             ],
             [
              1,
              "#f0f921"
             ]
            ],
            "type": "histogram2d"
           }
          ],
          "histogram2dcontour": [
           {
            "colorbar": {
             "outlinewidth": 0,
             "ticks": ""
            },
            "colorscale": [
             [
              0,
              "#0d0887"
             ],
             [
              0.1111111111111111,
              "#46039f"
             ],
             [
              0.2222222222222222,
              "#7201a8"
             ],
             [
              0.3333333333333333,
              "#9c179e"
             ],
             [
              0.4444444444444444,
              "#bd3786"
             ],
             [
              0.5555555555555556,
              "#d8576b"
             ],
             [
              0.6666666666666666,
              "#ed7953"
             ],
             [
              0.7777777777777778,
              "#fb9f3a"
             ],
             [
              0.8888888888888888,
              "#fdca26"
             ],
             [
              1,
              "#f0f921"
             ]
            ],
            "type": "histogram2dcontour"
           }
          ],
          "mesh3d": [
           {
            "colorbar": {
             "outlinewidth": 0,
             "ticks": ""
            },
            "type": "mesh3d"
           }
          ],
          "parcoords": [
           {
            "line": {
             "colorbar": {
              "outlinewidth": 0,
              "ticks": ""
             }
            },
            "type": "parcoords"
           }
          ],
          "pie": [
           {
            "automargin": true,
            "type": "pie"
           }
          ],
          "scatter": [
           {
            "marker": {
             "colorbar": {
              "outlinewidth": 0,
              "ticks": ""
             }
            },
            "type": "scatter"
           }
          ],
          "scatter3d": [
           {
            "line": {
             "colorbar": {
              "outlinewidth": 0,
              "ticks": ""
             }
            },
            "marker": {
             "colorbar": {
              "outlinewidth": 0,
              "ticks": ""
             }
            },
            "type": "scatter3d"
           }
          ],
          "scattercarpet": [
           {
            "marker": {
             "colorbar": {
              "outlinewidth": 0,
              "ticks": ""
             }
            },
            "type": "scattercarpet"
           }
          ],
          "scattergeo": [
           {
            "marker": {
             "colorbar": {
              "outlinewidth": 0,
              "ticks": ""
             }
            },
            "type": "scattergeo"
           }
          ],
          "scattergl": [
           {
            "marker": {
             "colorbar": {
              "outlinewidth": 0,
              "ticks": ""
             }
            },
            "type": "scattergl"
           }
          ],
          "scattermapbox": [
           {
            "marker": {
             "colorbar": {
              "outlinewidth": 0,
              "ticks": ""
             }
            },
            "type": "scattermapbox"
           }
          ],
          "scatterpolar": [
           {
            "marker": {
             "colorbar": {
              "outlinewidth": 0,
              "ticks": ""
             }
            },
            "type": "scatterpolar"
           }
          ],
          "scatterpolargl": [
           {
            "marker": {
             "colorbar": {
              "outlinewidth": 0,
              "ticks": ""
             }
            },
            "type": "scatterpolargl"
           }
          ],
          "scatterternary": [
           {
            "marker": {
             "colorbar": {
              "outlinewidth": 0,
              "ticks": ""
             }
            },
            "type": "scatterternary"
           }
          ],
          "surface": [
           {
            "colorbar": {
             "outlinewidth": 0,
             "ticks": ""
            },
            "colorscale": [
             [
              0,
              "#0d0887"
             ],
             [
              0.1111111111111111,
              "#46039f"
             ],
             [
              0.2222222222222222,
              "#7201a8"
             ],
             [
              0.3333333333333333,
              "#9c179e"
             ],
             [
              0.4444444444444444,
              "#bd3786"
             ],
             [
              0.5555555555555556,
              "#d8576b"
             ],
             [
              0.6666666666666666,
              "#ed7953"
             ],
             [
              0.7777777777777778,
              "#fb9f3a"
             ],
             [
              0.8888888888888888,
              "#fdca26"
             ],
             [
              1,
              "#f0f921"
             ]
            ],
            "type": "surface"
           }
          ],
          "table": [
           {
            "cells": {
             "fill": {
              "color": "#EBF0F8"
             },
             "line": {
              "color": "white"
             }
            },
            "header": {
             "fill": {
              "color": "#C8D4E3"
             },
             "line": {
              "color": "white"
             }
            },
            "type": "table"
           }
          ]
         },
         "layout": {
          "annotationdefaults": {
           "arrowcolor": "#2a3f5f",
           "arrowhead": 0,
           "arrowwidth": 1
          },
          "autotypenumbers": "strict",
          "coloraxis": {
           "colorbar": {
            "outlinewidth": 0,
            "ticks": ""
           }
          },
          "colorscale": {
           "diverging": [
            [
             0,
             "#8e0152"
            ],
            [
             0.1,
             "#c51b7d"
            ],
            [
             0.2,
             "#de77ae"
            ],
            [
             0.3,
             "#f1b6da"
            ],
            [
             0.4,
             "#fde0ef"
            ],
            [
             0.5,
             "#f7f7f7"
            ],
            [
             0.6,
             "#e6f5d0"
            ],
            [
             0.7,
             "#b8e186"
            ],
            [
             0.8,
             "#7fbc41"
            ],
            [
             0.9,
             "#4d9221"
            ],
            [
             1,
             "#276419"
            ]
           ],
           "sequential": [
            [
             0,
             "#0d0887"
            ],
            [
             0.1111111111111111,
             "#46039f"
            ],
            [
             0.2222222222222222,
             "#7201a8"
            ],
            [
             0.3333333333333333,
             "#9c179e"
            ],
            [
             0.4444444444444444,
             "#bd3786"
            ],
            [
             0.5555555555555556,
             "#d8576b"
            ],
            [
             0.6666666666666666,
             "#ed7953"
            ],
            [
             0.7777777777777778,
             "#fb9f3a"
            ],
            [
             0.8888888888888888,
             "#fdca26"
            ],
            [
             1,
             "#f0f921"
            ]
           ],
           "sequentialminus": [
            [
             0,
             "#0d0887"
            ],
            [
             0.1111111111111111,
             "#46039f"
            ],
            [
             0.2222222222222222,
             "#7201a8"
            ],
            [
             0.3333333333333333,
             "#9c179e"
            ],
            [
             0.4444444444444444,
             "#bd3786"
            ],
            [
             0.5555555555555556,
             "#d8576b"
            ],
            [
             0.6666666666666666,
             "#ed7953"
            ],
            [
             0.7777777777777778,
             "#fb9f3a"
            ],
            [
             0.8888888888888888,
             "#fdca26"
            ],
            [
             1,
             "#f0f921"
            ]
           ]
          },
          "colorway": [
           "#636efa",
           "#EF553B",
           "#00cc96",
           "#ab63fa",
           "#FFA15A",
           "#19d3f3",
           "#FF6692",
           "#B6E880",
           "#FF97FF",
           "#FECB52"
          ],
          "font": {
           "color": "#2a3f5f"
          },
          "geo": {
           "bgcolor": "white",
           "lakecolor": "white",
           "landcolor": "#E5ECF6",
           "showlakes": true,
           "showland": true,
           "subunitcolor": "white"
          },
          "hoverlabel": {
           "align": "left"
          },
          "hovermode": "closest",
          "mapbox": {
           "style": "light"
          },
          "paper_bgcolor": "white",
          "plot_bgcolor": "#E5ECF6",
          "polar": {
           "angularaxis": {
            "gridcolor": "white",
            "linecolor": "white",
            "ticks": ""
           },
           "bgcolor": "#E5ECF6",
           "radialaxis": {
            "gridcolor": "white",
            "linecolor": "white",
            "ticks": ""
           }
          },
          "scene": {
           "xaxis": {
            "backgroundcolor": "#E5ECF6",
            "gridcolor": "white",
            "gridwidth": 2,
            "linecolor": "white",
            "showbackground": true,
            "ticks": "",
            "zerolinecolor": "white"
           },
           "yaxis": {
            "backgroundcolor": "#E5ECF6",
            "gridcolor": "white",
            "gridwidth": 2,
            "linecolor": "white",
            "showbackground": true,
            "ticks": "",
            "zerolinecolor": "white"
           },
           "zaxis": {
            "backgroundcolor": "#E5ECF6",
            "gridcolor": "white",
            "gridwidth": 2,
            "linecolor": "white",
            "showbackground": true,
            "ticks": "",
            "zerolinecolor": "white"
           }
          },
          "shapedefaults": {
           "line": {
            "color": "#2a3f5f"
           }
          },
          "ternary": {
           "aaxis": {
            "gridcolor": "white",
            "linecolor": "white",
            "ticks": ""
           },
           "baxis": {
            "gridcolor": "white",
            "linecolor": "white",
            "ticks": ""
           },
           "bgcolor": "#E5ECF6",
           "caxis": {
            "gridcolor": "white",
            "linecolor": "white",
            "ticks": ""
           }
          },
          "title": {
           "x": 0.05
          },
          "xaxis": {
           "automargin": true,
           "gridcolor": "white",
           "linecolor": "white",
           "ticks": "",
           "title": {
            "standoff": 15
           },
           "zerolinecolor": "white",
           "zerolinewidth": 2
          },
          "yaxis": {
           "automargin": true,
           "gridcolor": "white",
           "linecolor": "white",
           "ticks": "",
           "title": {
            "standoff": 15
           },
           "zerolinecolor": "white",
           "zerolinewidth": 2
          }
         }
        },
        "xaxis": {
         "autorange": true,
         "range": [
          0.5,
          14.5
         ],
         "type": "linear"
        },
        "yaxis": {
         "autorange": true,
         "range": [
          0,
          278.94736842105266
         ]
        }
       }
      },
      "image/png": "[encoded data removed]",
      "text/html": [
       "<div>                            <div id=\"30468a17-2c9b-4da3-8945-e71825995bc1\" class=\"plotly-graph-div\" style=\"height:525px; width:100%;\"></div>            <script type=\"text/javascript\">                require([\"plotly\"], function(Plotly) {                    window.PLOTLYENV=window.PLOTLYENV || {};                                    if (document.getElementById(\"30468a17-2c9b-4da3-8945-e71825995bc1\")) {                    Plotly.newPlot(                        \"30468a17-2c9b-4da3-8945-e71825995bc1\",                        [{\"type\": \"histogram\", \"x\": [10, 9, 12, 9, 11, 10, 8, 10, 10, 9, 10, 12, 11, 11, 11, 10, 9, 10, 12, 9, 12, 9, 11, 10, 8, 9, 13, 9, 11, 10, 12, 10, 13, 11, 10, 10, 11, 13, 11, 14, 11, 10, 10, 13, 12, 10, 11, 11, 8, 7, 10, 9, 10, 10, 11, 9, 13, 11, 9, 8, 3, 11, 11, 12, 12, 10, 10, 11, 12, 10, 10, 10, 11, 11, 8, 8, 10, 9, 10, 12, 8, 11, 11, 9, 12, 9, 12, 11, 7, 11, 9, 11, 11, 13, 12, 10, 12, 11, 10, 10, 4, 9, 10, 12, 10, 12, 10, 9, 10, 12, 9, 10, 9, 11, 11, 7, 10, 11, 10, 11, 10, 12, 11, 9, 11, 11, 13, 9, 7, 10, 11, 9, 11, 11, 11, 12, 11, 11, 10, 8, 10, 9, 12, 9, 12, 10, 10, 11, 11, 12, 11, 11, 9, 11, 9, 12, 8, 7, 8, 7, 12, 9, 8, 11, 8, 11, 9, 11, 10, 10, 10, 10, 12, 11, 10, 14, 11, 11, 10, 12, 11, 12, 14, 10, 10, 9, 10, 11, 10, 11, 10, 11, 11, 10, 13, 10, 10, 10, 9, 8, 11, 12, 10, 11, 11, 13, 10, 9, 10, 12, 12, 12, 12, 10, 13, 11, 11, 11, 10, 7, 10, 8, 13, 10, 11, 8, 8, 10, 11, 12, 11, 9, 11, 10, 11, 14, 8, 12, 12, 11, 11, 11, 8, 9, 12, 11, 13, 11, 10, 10, 10, 13, 10, 11, 10, 10, 10, 1, 9, 10, 13, 9, 10, 10, 11, 10, 11, 11, 10, 10, 11, 11, 11, 13, 11, 9, 10, 12, 8, 9, 12, 10, 12, 9, 8, 9, 7, 7, 10, 10, 9, 10, 11, 11, 7, 13, 11, 11, 11, 11, 11, 10, 8, 7, 11, 10, 13, 10, 11, 11, 11, 9, 8, 11, 10, 8, 12, 10, 13, 10, 8, 10, 12, 9, 10, 10, 9, 11, 8, 10, 8, 11, 7, 8, 9, 9, 12, 8, 11, 10, 13, 9, 11, 11, 10, 10, 12, 13, 8, 11, 12, 8, 11, 9, 10, 12, 9, 11, 12, 7, 13, 13, 12, 7, 12, 11, 12, 10, 10, 8, 10, 11, 13, 9, 9, 10, 10, 11, 9, 13, 10, 12, 11, 11, 12, 11, 9, 12, 11, 12, 11, 11, 10, 10, 9, 11, 10, 8, 13, 8, 13, 3, 8, 11, 11, 8, 12, 12, 10, 10, 9, 9, 13, 9, 14, 12, 11, 12, 11, 12, 11, 10, 9, 11, 11, 10, 9, 9, 11, 11, 8, 9, 9, 11, 11, 9, 10, 10, 12, 11, 10, 11, 7, 8, 11, 10, 9, 10, 10, 11, 10, 12, 12, 9, 13, 8, 11, 11, 9, 11, 8, 8, 13, 9, 10, 12, 10, 12, 10, 13, 11, 11, 10, 7, 10, 13, 10, 9, 9, 8, 9, 12, 9, 11, 12, 11, 8, 10, 9, 11, 10, 9, 11, 5, 11, 11, 9, 10, 10, 11, 10, 11, 11, 10, 13, 9, 11, 11, 10, 10, 10, 13, 11, 12, 8, 5, 7, 12, 11, 10, 8, 10, 13, 6, 10, 9, 8, 9, 9, 10, 3, 12, 10, 10, 12, 1, 12, 12, 11, 11, 7, 9, 11, 10, 5, 11, 12, 9, 12, 11, 13, 8, 13, 11, 11, 11, 11, 12, 9, 10, 9, 11, 9, 11, 11, 14, 7, 12, 11, 9, 10, 11, 10, 11, 10, 9, 9, 12, 9, 12, 9, 10, 12, 8, 11, 11, 11, 8, 12, 8, 8, 11, 13, 12, 11, 11, 11, 8, 10, 10, 11, 8, 11, 6, 12, 10, 11, 12, 8, 11, 12, 10, 11, 11, 14, 9, 12, 11, 13, 10, 6, 11, 12, 11, 12, 12, 4, 11, 10, 10, 6, 11, 10, 8, 8, 10, 11, 12, 8, 13, 11, 11, 11, 9, 9, 9, 11, 11, 5, 9, 12, 11, 12, 12, 10, 9, 9, 7, 10, 11, 9, 12, 11, 9, 12, 9, 10, 9, 9, 11, 11, 11, 9, 9, 11, 14, 11, 13, 12, 10, 10, 10, 12, 12, 10, 10, 11, 10, 10, 13, 9, 8, 9, 13, 11, 9, 10, 10, 12, 10, 11, 8, 11, 8, 13, 11, 10, 12, 10, 12, 9, 8, 12, 10, 8, 10, 12, 9, 7, 10, 9, 11, 12, 8, 10, 11, 3, 11, 9, 13, 11, 3, 11, 8, 10, 11, 11, 10, 13, 10, 10, 4, 8, 9, 12, 9, 9, 10, 12, 9, 9, 11, 10, 11, 12, 12, 12, 11, 10, 8, 10, 12, 10, 11, 10, 9, 11, 11, 12, 11, 11, 11, 12, 10, 12, 13, 9, 12, 10, 11, 10, 12, 10, 13, 8, 9, 10, 10, 10, 13, 8, 13, 14, 10, 9, 11, 13, 11, 12, 9, 11, 10, 11, 11, 9, 11, 12, 2, 10, 12, 12, 10, 9, 5, 8, 8, 11, 11, 11, 10, 12, 11, 11, 9, 9, 13, 11, 14, 13, 10, 12, 11, 10, 8, 10, 10, 10, 8, 13, 10, 9, 10, 11, 9, 11, 12, 9, 12, 11, 9, 11, 13, 9, 6, 12, 11, 11, 11, 12, 8, 10, 11, 8, 11, 11, 6, 12, 11, 11, 11, 11, 10, 11, 12, 12, 8, 10, 11, 6, 12, 13, 11, 12, 8, 10, 10, 10, 11, 13, 14, 12, 10, 10, 11, 12, 9, 7, 9, 11, 9, 9, 11, 13, 9, 8, 9, 11, 10, 12, 8, 10, 12, 11, 9, 10, 10, 10, 13, 10, 11, 10, 10, 10, 10, 11, 11, 8, 9, 13, 9, 2, 11, 11, 8, 8, 11, 13, 10, 11, 1, 10, 13, 10, 12, 4, 7, 12, 13, 9, 11, 10, 11, 10, 13, 8, 9, 10, 9, 10, 11, 12, 8, 10, 1, 10, 11, 10, 11, 8, 9, 10, 7, 9, 10, 10, 7, 12, 9, 9, 8, 11, 12, 9, 11, 10, 11, 10, 12, 8, 12, 12, 9, 11, 12, 10, 11, 11, 12, 10, 14]}],                        {\"template\": {\"data\": {\"bar\": [{\"error_x\": {\"color\": \"#2a3f5f\"}, \"error_y\": {\"color\": \"#2a3f5f\"}, \"marker\": {\"line\": {\"color\": \"#E5ECF6\", \"width\": 0.5}}, \"type\": \"bar\"}], \"barpolar\": [{\"marker\": {\"line\": {\"color\": \"#E5ECF6\", \"width\": 0.5}}, \"type\": \"barpolar\"}], \"carpet\": [{\"aaxis\": {\"endlinecolor\": \"#2a3f5f\", \"gridcolor\": \"white\", \"linecolor\": \"white\", \"minorgridcolor\": \"white\", \"startlinecolor\": \"#2a3f5f\"}, \"baxis\": {\"endlinecolor\": \"#2a3f5f\", \"gridcolor\": \"white\", \"linecolor\": \"white\", \"minorgridcolor\": \"white\", \"startlinecolor\": \"#2a3f5f\"}, \"type\": \"carpet\"}], \"choropleth\": [{\"colorbar\": {\"outlinewidth\": 0, \"ticks\": \"\"}, \"type\": \"choropleth\"}], \"contour\": [{\"colorbar\": {\"outlinewidth\": 0, \"ticks\": \"\"}, \"colorscale\": [[0.0, \"#0d0887\"], [0.1111111111111111, \"#46039f\"], [0.2222222222222222, \"#7201a8\"], [0.3333333333333333, \"#9c179e\"], [0.4444444444444444, \"#bd3786\"], [0.5555555555555556, \"#d8576b\"], [0.6666666666666666, \"#ed7953\"], [0.7777777777777778, \"#fb9f3a\"], [0.8888888888888888, \"#fdca26\"], [1.0, \"#f0f921\"]], \"type\": \"contour\"}], \"contourcarpet\": [{\"colorbar\": {\"outlinewidth\": 0, \"ticks\": \"\"}, \"type\": \"contourcarpet\"}], \"heatmap\": [{\"colorbar\": {\"outlinewidth\": 0, \"ticks\": \"\"}, \"colorscale\": [[0.0, \"#0d0887\"], [0.1111111111111111, \"#46039f\"], [0.2222222222222222, \"#7201a8\"], [0.3333333333333333, \"#9c179e\"], [0.4444444444444444, \"#bd3786\"], [0.5555555555555556, \"#d8576b\"], [0.6666666666666666, \"#ed7953\"], [0.7777777777777778, \"#fb9f3a\"], [0.8888888888888888, \"#fdca26\"], [1.0, \"#f0f921\"]], \"type\": \"heatmap\"}], \"heatmapgl\": [{\"colorbar\": {\"outlinewidth\": 0, \"ticks\": \"\"}, \"colorscale\": [[0.0, \"#0d0887\"], [0.1111111111111111, \"#46039f\"], [0.2222222222222222, \"#7201a8\"], [0.3333333333333333, \"#9c179e\"], [0.4444444444444444, \"#bd3786\"], [0.5555555555555556, \"#d8576b\"], [0.6666666666666666, \"#ed7953\"], [0.7777777777777778, \"#fb9f3a\"], [0.8888888888888888, \"#fdca26\"], [1.0, \"#f0f921\"]], \"type\": \"heatmapgl\"}], \"histogram\": [{\"marker\": {\"colorbar\": {\"outlinewidth\": 0, \"ticks\": \"\"}}, \"type\": \"histogram\"}], \"histogram2d\": [{\"colorbar\": {\"outlinewidth\": 0, \"ticks\": \"\"}, \"colorscale\": [[0.0, \"#0d0887\"], [0.1111111111111111, \"#46039f\"], [0.2222222222222222, \"#7201a8\"], [0.3333333333333333, \"#9c179e\"], [0.4444444444444444, \"#bd3786\"], [0.5555555555555556, \"#d8576b\"], [0.6666666666666666, \"#ed7953\"], [0.7777777777777778, \"#fb9f3a\"], [0.8888888888888888, \"#fdca26\"], [1.0, \"#f0f921\"]], \"type\": \"histogram2d\"}], \"histogram2dcontour\": [{\"colorbar\": {\"outlinewidth\": 0, \"ticks\": \"\"}, \"colorscale\": [[0.0, \"#0d0887\"], [0.1111111111111111, \"#46039f\"], [0.2222222222222222, \"#7201a8\"], [0.3333333333333333, \"#9c179e\"], [0.4444444444444444, \"#bd3786\"], [0.5555555555555556, \"#d8576b\"], [0.6666666666666666, \"#ed7953\"], [0.7777777777777778, \"#fb9f3a\"], [0.8888888888888888, \"#fdca26\"], [1.0, \"#f0f921\"]], \"type\": \"histogram2dcontour\"}], \"mesh3d\": [{\"colorbar\": {\"outlinewidth\": 0, \"ticks\": \"\"}, \"type\": \"mesh3d\"}], \"parcoords\": [{\"line\": {\"colorbar\": {\"outlinewidth\": 0, \"ticks\": \"\"}}, \"type\": \"parcoords\"}], \"pie\": [{\"automargin\": true, \"type\": \"pie\"}], \"scatter\": [{\"marker\": {\"colorbar\": {\"outlinewidth\": 0, \"ticks\": \"\"}}, \"type\": \"scatter\"}], \"scatter3d\": [{\"line\": {\"colorbar\": {\"outlinewidth\": 0, \"ticks\": \"\"}}, \"marker\": {\"colorbar\": {\"outlinewidth\": 0, \"ticks\": \"\"}}, \"type\": \"scatter3d\"}], \"scattercarpet\": [{\"marker\": {\"colorbar\": {\"outlinewidth\": 0, \"ticks\": \"\"}}, \"type\": \"scattercarpet\"}], \"scattergeo\": [{\"marker\": {\"colorbar\": {\"outlinewidth\": 0, \"ticks\": \"\"}}, \"type\": \"scattergeo\"}], \"scattergl\": [{\"marker\": {\"colorbar\": {\"outlinewidth\": 0, \"ticks\": \"\"}}, \"type\": \"scattergl\"}], \"scattermapbox\": [{\"marker\": {\"colorbar\": {\"outlinewidth\": 0, \"ticks\": \"\"}}, \"type\": \"scattermapbox\"}], \"scatterpolar\": [{\"marker\": {\"colorbar\": {\"outlinewidth\": 0, \"ticks\": \"\"}}, \"type\": \"scatterpolar\"}], \"scatterpolargl\": [{\"marker\": {\"colorbar\": {\"outlinewidth\": 0, \"ticks\": \"\"}}, \"type\": \"scatterpolargl\"}], \"scatterternary\": [{\"marker\": {\"colorbar\": {\"outlinewidth\": 0, \"ticks\": \"\"}}, \"type\": \"scatterternary\"}], \"surface\": [{\"colorbar\": {\"outlinewidth\": 0, \"ticks\": \"\"}, \"colorscale\": [[0.0, \"#0d0887\"], [0.1111111111111111, \"#46039f\"], [0.2222222222222222, \"#7201a8\"], [0.3333333333333333, \"#9c179e\"], [0.4444444444444444, \"#bd3786\"], [0.5555555555555556, \"#d8576b\"], [0.6666666666666666, \"#ed7953\"], [0.7777777777777778, \"#fb9f3a\"], [0.8888888888888888, \"#fdca26\"], [1.0, \"#f0f921\"]], \"type\": \"surface\"}], \"table\": [{\"cells\": {\"fill\": {\"color\": \"#EBF0F8\"}, \"line\": {\"color\": \"white\"}}, \"header\": {\"fill\": {\"color\": \"#C8D4E3\"}, \"line\": {\"color\": \"white\"}}, \"type\": \"table\"}]}, \"layout\": {\"annotationdefaults\": {\"arrowcolor\": \"#2a3f5f\", \"arrowhead\": 0, \"arrowwidth\": 1}, \"autotypenumbers\": \"strict\", \"coloraxis\": {\"colorbar\": {\"outlinewidth\": 0, \"ticks\": \"\"}}, \"colorscale\": {\"diverging\": [[0, \"#8e0152\"], [0.1, \"#c51b7d\"], [0.2, \"#de77ae\"], [0.3, \"#f1b6da\"], [0.4, \"#fde0ef\"], [0.5, \"#f7f7f7\"], [0.6, \"#e6f5d0\"], [0.7, \"#b8e186\"], [0.8, \"#7fbc41\"], [0.9, \"#4d9221\"], [1, \"#276419\"]], \"sequential\": [[0.0, \"#0d0887\"], [0.1111111111111111, \"#46039f\"], [0.2222222222222222, \"#7201a8\"], [0.3333333333333333, \"#9c179e\"], [0.4444444444444444, \"#bd3786\"], [0.5555555555555556, \"#d8576b\"], [0.6666666666666666, \"#ed7953\"], [0.7777777777777778, \"#fb9f3a\"], [0.8888888888888888, \"#fdca26\"], [1.0, \"#f0f921\"]], \"sequentialminus\": [[0.0, \"#0d0887\"], [0.1111111111111111, \"#46039f\"], [0.2222222222222222, \"#7201a8\"], [0.3333333333333333, \"#9c179e\"], [0.4444444444444444, \"#bd3786\"], [0.5555555555555556, \"#d8576b\"], [0.6666666666666666, \"#ed7953\"], [0.7777777777777778, \"#fb9f3a\"], [0.8888888888888888, \"#fdca26\"], [1.0, \"#f0f921\"]]}, \"colorway\": [\"#636efa\", \"#EF553B\", \"#00cc96\", \"#ab63fa\", \"#FFA15A\", \"#19d3f3\", \"#FF6692\", \"#B6E880\", \"#FF97FF\", \"#FECB52\"], \"font\": {\"color\": \"#2a3f5f\"}, \"geo\": {\"bgcolor\": \"white\", \"lakecolor\": \"white\", \"landcolor\": \"#E5ECF6\", \"showlakes\": true, \"showland\": true, \"subunitcolor\": \"white\"}, \"hoverlabel\": {\"align\": \"left\"}, \"hovermode\": \"closest\", \"mapbox\": {\"style\": \"light\"}, \"paper_bgcolor\": \"white\", \"plot_bgcolor\": \"#E5ECF6\", \"polar\": {\"angularaxis\": {\"gridcolor\": \"white\", \"linecolor\": \"white\", \"ticks\": \"\"}, \"bgcolor\": \"#E5ECF6\", \"radialaxis\": {\"gridcolor\": \"white\", \"linecolor\": \"white\", \"ticks\": \"\"}}, \"scene\": {\"xaxis\": {\"backgroundcolor\": \"#E5ECF6\", \"gridcolor\": \"white\", \"gridwidth\": 2, \"linecolor\": \"white\", \"showbackground\": true, \"ticks\": \"\", \"zerolinecolor\": \"white\"}, \"yaxis\": {\"backgroundcolor\": \"#E5ECF6\", \"gridcolor\": \"white\", \"gridwidth\": 2, \"linecolor\": \"white\", \"showbackground\": true, \"ticks\": \"\", \"zerolinecolor\": \"white\"}, \"zaxis\": {\"backgroundcolor\": \"#E5ECF6\", \"gridcolor\": \"white\", \"gridwidth\": 2, \"linecolor\": \"white\", \"showbackground\": true, \"ticks\": \"\", \"zerolinecolor\": \"white\"}}, \"shapedefaults\": {\"line\": {\"color\": \"#2a3f5f\"}}, \"ternary\": {\"aaxis\": {\"gridcolor\": \"white\", \"linecolor\": \"white\", \"ticks\": \"\"}, \"baxis\": {\"gridcolor\": \"white\", \"linecolor\": \"white\", \"ticks\": \"\"}, \"bgcolor\": \"#E5ECF6\", \"caxis\": {\"gridcolor\": \"white\", \"linecolor\": \"white\", \"ticks\": \"\"}}, \"title\": {\"x\": 0.05}, \"xaxis\": {\"automargin\": true, \"gridcolor\": \"white\", \"linecolor\": \"white\", \"ticks\": \"\", \"title\": {\"standoff\": 15}, \"zerolinecolor\": \"white\", \"zerolinewidth\": 2}, \"yaxis\": {\"automargin\": true, \"gridcolor\": \"white\", \"linecolor\": \"white\", \"ticks\": \"\", \"title\": {\"standoff\": 15}, \"zerolinecolor\": \"white\", \"zerolinewidth\": 2}}}},                        {\"responsive\": true}                    ).then(function(){\n",
       "                            \n",
       "var gd = document.getElementById('30468a17-2c9b-4da3-8945-e71825995bc1');\n",
       "var x = new MutationObserver(function (mutations, observer) {{\n",
       "        var display = window.getComputedStyle(gd).display;\n",
       "        if (!display || display === 'none') {{\n",
       "            console.log([gd, 'removed!']);\n",
       "            Plotly.purge(gd);\n",
       "            observer.disconnect();\n",
       "        }}\n",
       "}});\n",
       "\n",
       "// Listen for the removal of the full notebook cells\n",
       "var notebookContainer = gd.closest('#notebook-container');\n",
       "if (notebookContainer) {{\n",
       "    x.observe(notebookContainer, {childList: true});\n",
       "}}\n",
       "\n",
       "// Listen for the clearing of the current output cell\n",
       "var outputEl = gd.closest('.output');\n",
       "if (outputEl) {{\n",
       "    x.observe(outputEl, {childList: true});\n",
       "}}\n",
       "\n",
       "                        })                };                });            </script>        </div>"
      ]
     },
     "metadata": {},
     "output_type": "display_data"
    }
   ],
   "source": [
    "fig = go.Figure(\n",
    "    data=[go.Histogram(x=tournament.scoreboard['hands'])]\n",
    ")\n",
    "fig.show()"
   ]
  },
  {
   "cell_type": "code",
   "execution_count": null,
   "metadata": {},
   "outputs": [],
   "source": []
  }
 ],
 "metadata": {
  "kernelspec": {
   "display_name": "Python 3",
   "language": "python",
   "name": "python3"
  },
  "language_info": {
   "codemirror_mode": {
    "name": "ipython",
    "version": 3
   },
   "file_extension": ".py",
   "mimetype": "text/x-python",
   "name": "python",
   "nbconvert_exporter": "python",
   "pygments_lexer": "ipython3",
   "version": "3.8.5"
  }
 },
 "nbformat": 4,
 "nbformat_minor": 4
}
