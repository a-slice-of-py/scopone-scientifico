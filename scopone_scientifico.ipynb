{
 "cells": [
  {
   "cell_type": "code",
   "execution_count": 1,
   "metadata": {},
   "outputs": [],
   "source": [
    "%load_ext autoreload\n",
    "%autoreload 2"
   ]
  },
  {
   "cell_type": "code",
   "execution_count": 15,
   "metadata": {},
   "outputs": [],
   "source": [
    "import plotly.graph_objects as go\n",
    "import matplotlib.pyplot as plt\n",
    "plt.style.use('dark_background')"
   ]
  },
  {
   "cell_type": "code",
   "execution_count": 2,
   "metadata": {},
   "outputs": [],
   "source": [
    "from scopone_scientifico import *"
   ]
  },
  {
   "cell_type": "code",
   "execution_count": 17,
   "metadata": {},
   "outputs": [
    {
     "data": {
      "application/vnd.jupyter.widget-view+json": {
       "model_id": "dd6801fb44a84df7acb64d8ee6e63d9c",
       "version_major": 2,
       "version_minor": 0
      },
      "text/plain": [
       "HBox(children=(HTML(value='Partite: '), FloatProgress(value=0.0, max=1000.0), HTML(value='')))"
      ]
     },
     "metadata": {},
     "output_type": "display_data"
    },
    {
     "name": "stdout",
     "output_type": "stream",
     "text": [
      "\n"
     ]
    }
   ],
   "source": [
    "tournament = Tournament(\n",
    "    team1=('A', 'B'), \n",
    "    team2=('C', 'D'),\n",
    "    n_match=1000\n",
    ")\n",
    "tournament.run()"
   ]
  },
  {
   "cell_type": "code",
   "execution_count": 18,
   "metadata": {},
   "outputs": [
    {
     "data": {
      "application/vnd.plotly.v1+json": {
       "config": {
        "plotlyServerURL": "https://plot.ly"
       },
       "data": [
        {
         "type": "histogram",
         "x": [
          10,
          8,
          8,
          8,
          6,
          10,
          7,
          8,
          8,
          8,
          7,
          8,
          7,
          8,
          8,
          10,
          6,
          9,
          8,
          6,
          9,
          6,
          7,
          10,
          7,
          7,
          9,
          8,
          7,
          6,
          10,
          6,
          8,
          9,
          9,
          8,
          9,
          8,
          8,
          6,
          10,
          7,
          7,
          8,
          9,
          4,
          10,
          7,
          8,
          7,
          8,
          9,
          9,
          10,
          8,
          7,
          9,
          10,
          9,
          9,
          6,
          7,
          7,
          7,
          8,
          9,
          7,
          8,
          6,
          9,
          9,
          8,
          9,
          8,
          10,
          9,
          6,
          8,
          10,
          8,
          10,
          7,
          7,
          9,
          7,
          8,
          8,
          9,
          10,
          11,
          8,
          9,
          7,
          6,
          10,
          7,
          9,
          8,
          6,
          8,
          8,
          8,
          8,
          10,
          9,
          10,
          10,
          8,
          7,
          5,
          8,
          10,
          9,
          8,
          8,
          8,
          8,
          7,
          8,
          9,
          9,
          8,
          10,
          9,
          7,
          6,
          9,
          7,
          10,
          10,
          6,
          6,
          9,
          9,
          5,
          10,
          7,
          10,
          7,
          7,
          8,
          8,
          7,
          6,
          9,
          9,
          8,
          8,
          9,
          9,
          9,
          5,
          6,
          10,
          6,
          6,
          10,
          7,
          9,
          8,
          8,
          8,
          6,
          9,
          7,
          8,
          10,
          9,
          9,
          7,
          10,
          10,
          10,
          8,
          8,
          8,
          8,
          9,
          8,
          8,
          9,
          8,
          10,
          7,
          9,
          10,
          8,
          8,
          10,
          8,
          9,
          8,
          7,
          9,
          9,
          7,
          9,
          8,
          10,
          10,
          6,
          7,
          10,
          9,
          10,
          8,
          11,
          6,
          9,
          8,
          7,
          9,
          9,
          8,
          9,
          8,
          6,
          10,
          8,
          10,
          7,
          10,
          9,
          8,
          8,
          6,
          7,
          10,
          9,
          10,
          8,
          9,
          7,
          8,
          9,
          7,
          10,
          9,
          9,
          10,
          8,
          7,
          10,
          7,
          10,
          9,
          8,
          9,
          5,
          7,
          10,
          10,
          6,
          9,
          8,
          6,
          8,
          8,
          9,
          9,
          8,
          8,
          7,
          9,
          8,
          8,
          9,
          8,
          8,
          7,
          6,
          7,
          6,
          9,
          8,
          9,
          9,
          8,
          9,
          8,
          8,
          8,
          7,
          9,
          7,
          8,
          8,
          6,
          8,
          8,
          10,
          9,
          7,
          8,
          7,
          9,
          9,
          7,
          8,
          9,
          9,
          7,
          7,
          10,
          7,
          10,
          5,
          9,
          8,
          8,
          6,
          10,
          9,
          10,
          8,
          10,
          10,
          8,
          9,
          7,
          9,
          9,
          8,
          7,
          8,
          7,
          8,
          9,
          9,
          8,
          8,
          9,
          3,
          6,
          7,
          6,
          8,
          7,
          9,
          5,
          8,
          8,
          6,
          9,
          6,
          8,
          6,
          10,
          7,
          7,
          5,
          6,
          8,
          9,
          10,
          7,
          9,
          8,
          7,
          8,
          9,
          7,
          9,
          9,
          8,
          9,
          8,
          8,
          6,
          7,
          8,
          1,
          7,
          8,
          8,
          8,
          8,
          10,
          5,
          11,
          8,
          9,
          9,
          6,
          8,
          6,
          7,
          8,
          7,
          8,
          9,
          4,
          10,
          8,
          8,
          10,
          9,
          6,
          8,
          6,
          8,
          8,
          9,
          9,
          8,
          7,
          10,
          9,
          8,
          10,
          7,
          10,
          10,
          8,
          6,
          9,
          9,
          8,
          10,
          8,
          8,
          10,
          9,
          6,
          7,
          8,
          9,
          10,
          8,
          7,
          6,
          8,
          7,
          7,
          7,
          6,
          8,
          9,
          7,
          6,
          9,
          8,
          7,
          10,
          8,
          8,
          8,
          8,
          7,
          8,
          7,
          3,
          9,
          8,
          7,
          8,
          10,
          8,
          7,
          11,
          8,
          10,
          8,
          9,
          8,
          8,
          10,
          6,
          10,
          8,
          7,
          6,
          5,
          11,
          8,
          6,
          9,
          10,
          8,
          9,
          9,
          8,
          8,
          10,
          8,
          8,
          6,
          10,
          8,
          9,
          8,
          8,
          8,
          7,
          9,
          7,
          7,
          9,
          8,
          9,
          9,
          8,
          8,
          8,
          4,
          6,
          6,
          8,
          11,
          9,
          8,
          5,
          7,
          9,
          8,
          5,
          6,
          8,
          9,
          7,
          9,
          9,
          8,
          8,
          7,
          8,
          6,
          7,
          8,
          10,
          8,
          8,
          9,
          11,
          8,
          8,
          7,
          9,
          10,
          2,
          9,
          7,
          8,
          7,
          9,
          7,
          7,
          10,
          8,
          9,
          8,
          9,
          7,
          9,
          10,
          9,
          8,
          9,
          7,
          8,
          10,
          9,
          9,
          9,
          9,
          10,
          9,
          7,
          10,
          8,
          8,
          8,
          9,
          7,
          8,
          2,
          7,
          8,
          9,
          8,
          8,
          7,
          10,
          7,
          7,
          9,
          7,
          9,
          8,
          9,
          9,
          9,
          9,
          7,
          9,
          9,
          7,
          7,
          9,
          8,
          7,
          8,
          9,
          8,
          7,
          7,
          9,
          9,
          9,
          8,
          8,
          1,
          9,
          8,
          6,
          8,
          8,
          5,
          7,
          9,
          6,
          10,
          7,
          8,
          9,
          8,
          9,
          9,
          7,
          6,
          7,
          9,
          8,
          7,
          8,
          9,
          10,
          7,
          7,
          7,
          8,
          9,
          8,
          8,
          9,
          9,
          8,
          10,
          6,
          8,
          8,
          7,
          9,
          9,
          6,
          7,
          9,
          8,
          9,
          10,
          7,
          11,
          10,
          1,
          6,
          8,
          7,
          9,
          6,
          8,
          10,
          9,
          9,
          9,
          10,
          8,
          9,
          9,
          5,
          7,
          10,
          9,
          9,
          9,
          8,
          8,
          11,
          8,
          9,
          10,
          10,
          9,
          7,
          10,
          9,
          7,
          10,
          8,
          10,
          8,
          9,
          8,
          10,
          9,
          9,
          9,
          10,
          7,
          10,
          8,
          8,
          8,
          9,
          9,
          5,
          7,
          10,
          9,
          8,
          6,
          9,
          8,
          9,
          9,
          9,
          6,
          10,
          9,
          9,
          11,
          2,
          6,
          10,
          9,
          8,
          6,
          8,
          10,
          6,
          8,
          6,
          9,
          6,
          2,
          8,
          8,
          9,
          8,
          8,
          8,
          9,
          7,
          6,
          8,
          7,
          9,
          7,
          9,
          1,
          8,
          8,
          8,
          8,
          9,
          8,
          9,
          7,
          8,
          8,
          6,
          8,
          8,
          10,
          8,
          9,
          9,
          8,
          9,
          9,
          9,
          7,
          7,
          6,
          9,
          8,
          7,
          10,
          10,
          3,
          6,
          7,
          9,
          6,
          8,
          11,
          9,
          9,
          11,
          8,
          10,
          7,
          5,
          9,
          6,
          9,
          5,
          8,
          8,
          8,
          10,
          7,
          8,
          10,
          8,
          9,
          8,
          9,
          8,
          9,
          7,
          9,
          8,
          9,
          8,
          8,
          8,
          10,
          10,
          9,
          8,
          9,
          10,
          7,
          8,
          9,
          8,
          7,
          6,
          10,
          8,
          7,
          8,
          9,
          8,
          8,
          10,
          9,
          7,
          9,
          9,
          9,
          8,
          9,
          9,
          9,
          10,
          8,
          8,
          7,
          8,
          8,
          10,
          11,
          8,
          8,
          7,
          9,
          8,
          9,
          8,
          7,
          9,
          7,
          7,
          7,
          9,
          7,
          9,
          6,
          7,
          9,
          8,
          8,
          8,
          10,
          8,
          6,
          7,
          6,
          9,
          10,
          9,
          10,
          8,
          10,
          8,
          6,
          9,
          8,
          8,
          9,
          8,
          7,
          5,
          9,
          8,
          8,
          9,
          8,
          9,
          7,
          9,
          6,
          10,
          9,
          6,
          7,
          6,
          9,
          9,
          8,
          7,
          8,
          8,
          9,
          8,
          8,
          9,
          9,
          6,
          9,
          8,
          8,
          9,
          9,
          9,
          9,
          9,
          8,
          8,
          9,
          9,
          9,
          8,
          7,
          7,
          7,
          8,
          8,
          6,
          9,
          8,
          8,
          9,
          7,
          6,
          8,
          7,
          9,
          6,
          6,
          7,
          6,
          9,
          10,
          8,
          8,
          7,
          10,
          8,
          8,
          9,
          7,
          9,
          7,
          9,
          8,
          9,
          7,
          8,
          6,
          9,
          7,
          8,
          6,
          9,
          6,
          7,
          7,
          8,
          10,
          8,
          4,
          8,
          9,
          8,
          9,
          8,
          10,
          10
         ]
        }
       ],
       "layout": {
        "autosize": true,
        "template": {
         "data": {
          "bar": [
           {
            "error_x": {
             "color": "#2a3f5f"
            },
            "error_y": {
             "color": "#2a3f5f"
            },
            "marker": {
             "line": {
              "color": "#E5ECF6",
              "width": 0.5
             }
            },
            "type": "bar"
           }
          ],
          "barpolar": [
           {
            "marker": {
             "line": {
              "color": "#E5ECF6",
              "width": 0.5
             }
            },
            "type": "barpolar"
           }
          ],
          "carpet": [
           {
            "aaxis": {
             "endlinecolor": "#2a3f5f",
             "gridcolor": "white",
             "linecolor": "white",
             "minorgridcolor": "white",
             "startlinecolor": "#2a3f5f"
            },
            "baxis": {
             "endlinecolor": "#2a3f5f",
             "gridcolor": "white",
             "linecolor": "white",
             "minorgridcolor": "white",
             "startlinecolor": "#2a3f5f"
            },
            "type": "carpet"
           }
          ],
          "choropleth": [
           {
            "colorbar": {
             "outlinewidth": 0,
             "ticks": ""
            },
            "type": "choropleth"
           }
          ],
          "contour": [
           {
            "colorbar": {
             "outlinewidth": 0,
             "ticks": ""
            },
            "colorscale": [
             [
              0,
              "#0d0887"
             ],
             [
              0.1111111111111111,
              "#46039f"
             ],
             [
              0.2222222222222222,
              "#7201a8"
             ],
             [
              0.3333333333333333,
              "#9c179e"
             ],
             [
              0.4444444444444444,
              "#bd3786"
             ],
             [
              0.5555555555555556,
              "#d8576b"
             ],
             [
              0.6666666666666666,
              "#ed7953"
             ],
             [
              0.7777777777777778,
              "#fb9f3a"
             ],
             [
              0.8888888888888888,
              "#fdca26"
             ],
             [
              1,
              "#f0f921"
             ]
            ],
            "type": "contour"
           }
          ],
          "contourcarpet": [
           {
            "colorbar": {
             "outlinewidth": 0,
             "ticks": ""
            },
            "type": "contourcarpet"
           }
          ],
          "heatmap": [
           {
            "colorbar": {
             "outlinewidth": 0,
             "ticks": ""
            },
            "colorscale": [
             [
              0,
              "#0d0887"
             ],
             [
              0.1111111111111111,
              "#46039f"
             ],
             [
              0.2222222222222222,
              "#7201a8"
             ],
             [
              0.3333333333333333,
              "#9c179e"
             ],
             [
              0.4444444444444444,
              "#bd3786"
             ],
             [
              0.5555555555555556,
              "#d8576b"
             ],
             [
              0.6666666666666666,
              "#ed7953"
             ],
             [
              0.7777777777777778,
              "#fb9f3a"
             ],
             [
              0.8888888888888888,
              "#fdca26"
             ],
             [
              1,
              "#f0f921"
             ]
            ],
            "type": "heatmap"
           }
          ],
          "heatmapgl": [
           {
            "colorbar": {
             "outlinewidth": 0,
             "ticks": ""
            },
            "colorscale": [
             [
              0,
              "#0d0887"
             ],
             [
              0.1111111111111111,
              "#46039f"
             ],
             [
              0.2222222222222222,
              "#7201a8"
             ],
             [
              0.3333333333333333,
              "#9c179e"
             ],
             [
              0.4444444444444444,
              "#bd3786"
             ],
             [
              0.5555555555555556,
              "#d8576b"
             ],
             [
              0.6666666666666666,
              "#ed7953"
             ],
             [
              0.7777777777777778,
              "#fb9f3a"
             ],
             [
              0.8888888888888888,
              "#fdca26"
             ],
             [
              1,
              "#f0f921"
             ]
            ],
            "type": "heatmapgl"
           }
          ],
          "histogram": [
           {
            "marker": {
             "colorbar": {
              "outlinewidth": 0,
              "ticks": ""
             }
            },
            "type": "histogram"
           }
          ],
          "histogram2d": [
           {
            "colorbar": {
             "outlinewidth": 0,
             "ticks": ""
            },
            "colorscale": [
             [
              0,
              "#0d0887"
             ],
             [
              0.1111111111111111,
              "#46039f"
             ],
             [
              0.2222222222222222,
              "#7201a8"
             ],
             [
              0.3333333333333333,
              "#9c179e"
             ],
             [
              0.4444444444444444,
              "#bd3786"
             ],
             [
              0.5555555555555556,
              "#d8576b"
             ],
             [
              0.6666666666666666,
              "#ed7953"
             ],
             [
              0.7777777777777778,
              "#fb9f3a"
             ],
             [
              0.8888888888888888,
              "#fdca26"
             ],
             [
              1,
              "#f0f921"
             ]
            ],
            "type": "histogram2d"
           }
          ],
          "histogram2dcontour": [
           {
            "colorbar": {
             "outlinewidth": 0,
             "ticks": ""
            },
            "colorscale": [
             [
              0,
              "#0d0887"
             ],
             [
              0.1111111111111111,
              "#46039f"
             ],
             [
              0.2222222222222222,
              "#7201a8"
             ],
             [
              0.3333333333333333,
              "#9c179e"
             ],
             [
              0.4444444444444444,
              "#bd3786"
             ],
             [
              0.5555555555555556,
              "#d8576b"
             ],
             [
              0.6666666666666666,
              "#ed7953"
             ],
             [
              0.7777777777777778,
              "#fb9f3a"
             ],
             [
              0.8888888888888888,
              "#fdca26"
             ],
             [
              1,
              "#f0f921"
             ]
            ],
            "type": "histogram2dcontour"
           }
          ],
          "mesh3d": [
           {
            "colorbar": {
             "outlinewidth": 0,
             "ticks": ""
            },
            "type": "mesh3d"
           }
          ],
          "parcoords": [
           {
            "line": {
             "colorbar": {
              "outlinewidth": 0,
              "ticks": ""
             }
            },
            "type": "parcoords"
           }
          ],
          "pie": [
           {
            "automargin": true,
            "type": "pie"
           }
          ],
          "scatter": [
           {
            "marker": {
             "colorbar": {
              "outlinewidth": 0,
              "ticks": ""
             }
            },
            "type": "scatter"
           }
          ],
          "scatter3d": [
           {
            "line": {
             "colorbar": {
              "outlinewidth": 0,
              "ticks": ""
             }
            },
            "marker": {
             "colorbar": {
              "outlinewidth": 0,
              "ticks": ""
             }
            },
            "type": "scatter3d"
           }
          ],
          "scattercarpet": [
           {
            "marker": {
             "colorbar": {
              "outlinewidth": 0,
              "ticks": ""
             }
            },
            "type": "scattercarpet"
           }
          ],
          "scattergeo": [
           {
            "marker": {
             "colorbar": {
              "outlinewidth": 0,
              "ticks": ""
             }
            },
            "type": "scattergeo"
           }
          ],
          "scattergl": [
           {
            "marker": {
             "colorbar": {
              "outlinewidth": 0,
              "ticks": ""
             }
            },
            "type": "scattergl"
           }
          ],
          "scattermapbox": [
           {
            "marker": {
             "colorbar": {
              "outlinewidth": 0,
              "ticks": ""
             }
            },
            "type": "scattermapbox"
           }
          ],
          "scatterpolar": [
           {
            "marker": {
             "colorbar": {
              "outlinewidth": 0,
              "ticks": ""
             }
            },
            "type": "scatterpolar"
           }
          ],
          "scatterpolargl": [
           {
            "marker": {
             "colorbar": {
              "outlinewidth": 0,
              "ticks": ""
             }
            },
            "type": "scatterpolargl"
           }
          ],
          "scatterternary": [
           {
            "marker": {
             "colorbar": {
              "outlinewidth": 0,
              "ticks": ""
             }
            },
            "type": "scatterternary"
           }
          ],
          "surface": [
           {
            "colorbar": {
             "outlinewidth": 0,
             "ticks": ""
            },
            "colorscale": [
             [
              0,
              "#0d0887"
             ],
             [
              0.1111111111111111,
              "#46039f"
             ],
             [
              0.2222222222222222,
              "#7201a8"
             ],
             [
              0.3333333333333333,
              "#9c179e"
             ],
             [
              0.4444444444444444,
              "#bd3786"
             ],
             [
              0.5555555555555556,
              "#d8576b"
             ],
             [
              0.6666666666666666,
              "#ed7953"
             ],
             [
              0.7777777777777778,
              "#fb9f3a"
             ],
             [
              0.8888888888888888,
              "#fdca26"
             ],
             [
              1,
              "#f0f921"
             ]
            ],
            "type": "surface"
           }
          ],
          "table": [
           {
            "cells": {
             "fill": {
              "color": "#EBF0F8"
             },
             "line": {
              "color": "white"
             }
            },
            "header": {
             "fill": {
              "color": "#C8D4E3"
             },
             "line": {
              "color": "white"
             }
            },
            "type": "table"
           }
          ]
         },
         "layout": {
          "annotationdefaults": {
           "arrowcolor": "#2a3f5f",
           "arrowhead": 0,
           "arrowwidth": 1
          },
          "autotypenumbers": "strict",
          "coloraxis": {
           "colorbar": {
            "outlinewidth": 0,
            "ticks": ""
           }
          },
          "colorscale": {
           "diverging": [
            [
             0,
             "#8e0152"
            ],
            [
             0.1,
             "#c51b7d"
            ],
            [
             0.2,
             "#de77ae"
            ],
            [
             0.3,
             "#f1b6da"
            ],
            [
             0.4,
             "#fde0ef"
            ],
            [
             0.5,
             "#f7f7f7"
            ],
            [
             0.6,
             "#e6f5d0"
            ],
            [
             0.7,
             "#b8e186"
            ],
            [
             0.8,
             "#7fbc41"
            ],
            [
             0.9,
             "#4d9221"
            ],
            [
             1,
             "#276419"
            ]
           ],
           "sequential": [
            [
             0,
             "#0d0887"
            ],
            [
             0.1111111111111111,
             "#46039f"
            ],
            [
             0.2222222222222222,
             "#7201a8"
            ],
            [
             0.3333333333333333,
             "#9c179e"
            ],
            [
             0.4444444444444444,
             "#bd3786"
            ],
            [
             0.5555555555555556,
             "#d8576b"
            ],
            [
             0.6666666666666666,
             "#ed7953"
            ],
            [
             0.7777777777777778,
             "#fb9f3a"
            ],
            [
             0.8888888888888888,
             "#fdca26"
            ],
            [
             1,
             "#f0f921"
            ]
           ],
           "sequentialminus": [
            [
             0,
             "#0d0887"
            ],
            [
             0.1111111111111111,
             "#46039f"
            ],
            [
             0.2222222222222222,
             "#7201a8"
            ],
            [
             0.3333333333333333,
             "#9c179e"
            ],
            [
             0.4444444444444444,
             "#bd3786"
            ],
            [
             0.5555555555555556,
             "#d8576b"
            ],
            [
             0.6666666666666666,
             "#ed7953"
            ],
            [
             0.7777777777777778,
             "#fb9f3a"
            ],
            [
             0.8888888888888888,
             "#fdca26"
            ],
            [
             1,
             "#f0f921"
            ]
           ]
          },
          "colorway": [
           "#636efa",
           "#EF553B",
           "#00cc96",
           "#ab63fa",
           "#FFA15A",
           "#19d3f3",
           "#FF6692",
           "#B6E880",
           "#FF97FF",
           "#FECB52"
          ],
          "font": {
           "color": "#2a3f5f"
          },
          "geo": {
           "bgcolor": "white",
           "lakecolor": "white",
           "landcolor": "#E5ECF6",
           "showlakes": true,
           "showland": true,
           "subunitcolor": "white"
          },
          "hoverlabel": {
           "align": "left"
          },
          "hovermode": "closest",
          "mapbox": {
           "style": "light"
          },
          "paper_bgcolor": "white",
          "plot_bgcolor": "#E5ECF6",
          "polar": {
           "angularaxis": {
            "gridcolor": "white",
            "linecolor": "white",
            "ticks": ""
           },
           "bgcolor": "#E5ECF6",
           "radialaxis": {
            "gridcolor": "white",
            "linecolor": "white",
            "ticks": ""
           }
          },
          "scene": {
           "xaxis": {
            "backgroundcolor": "#E5ECF6",
            "gridcolor": "white",
            "gridwidth": 2,
            "linecolor": "white",
            "showbackground": true,
            "ticks": "",
            "zerolinecolor": "white"
           },
           "yaxis": {
            "backgroundcolor": "#E5ECF6",
            "gridcolor": "white",
            "gridwidth": 2,
            "linecolor": "white",
            "showbackground": true,
            "ticks": "",
            "zerolinecolor": "white"
           },
           "zaxis": {
            "backgroundcolor": "#E5ECF6",
            "gridcolor": "white",
            "gridwidth": 2,
            "linecolor": "white",
            "showbackground": true,
            "ticks": "",
            "zerolinecolor": "white"
           }
          },
          "shapedefaults": {
           "line": {
            "color": "#2a3f5f"
           }
          },
          "ternary": {
           "aaxis": {
            "gridcolor": "white",
            "linecolor": "white",
            "ticks": ""
           },
           "baxis": {
            "gridcolor": "white",
            "linecolor": "white",
            "ticks": ""
           },
           "bgcolor": "#E5ECF6",
           "caxis": {
            "gridcolor": "white",
            "linecolor": "white",
            "ticks": ""
           }
          },
          "title": {
           "x": 0.05
          },
          "xaxis": {
           "automargin": true,
           "gridcolor": "white",
           "linecolor": "white",
           "ticks": "",
           "title": {
            "standoff": 15
           },
           "zerolinecolor": "white",
           "zerolinewidth": 2
          },
          "yaxis": {
           "automargin": true,
           "gridcolor": "white",
           "linecolor": "white",
           "ticks": "",
           "title": {
            "standoff": 15
           },
           "zerolinecolor": "white",
           "zerolinewidth": 2
          }
         }
        },
        "xaxis": {
         "autorange": true,
         "range": [
          0.5,
          11.5
         ],
         "type": "linear"
        },
        "yaxis": {
         "autorange": true,
         "range": [
          0,
          326.3157894736842
         ]
        }
       }
      },
      "image/png": "[encoded data removed]",
      "text/html": [
       "<div>                            <div id=\"4c53e69d-55d4-4c2f-9cd3-505924926563\" class=\"plotly-graph-div\" style=\"height:525px; width:100%;\"></div>            <script type=\"text/javascript\">                require([\"plotly\"], function(Plotly) {                    window.PLOTLYENV=window.PLOTLYENV || {};                                    if (document.getElementById(\"4c53e69d-55d4-4c2f-9cd3-505924926563\")) {                    Plotly.newPlot(                        \"4c53e69d-55d4-4c2f-9cd3-505924926563\",                        [{\"type\": \"histogram\", \"x\": [10, 8, 8, 8, 6, 10, 7, 8, 8, 8, 7, 8, 7, 8, 8, 10, 6, 9, 8, 6, 9, 6, 7, 10, 7, 7, 9, 8, 7, 6, 10, 6, 8, 9, 9, 8, 9, 8, 8, 6, 10, 7, 7, 8, 9, 4, 10, 7, 8, 7, 8, 9, 9, 10, 8, 7, 9, 10, 9, 9, 6, 7, 7, 7, 8, 9, 7, 8, 6, 9, 9, 8, 9, 8, 10, 9, 6, 8, 10, 8, 10, 7, 7, 9, 7, 8, 8, 9, 10, 11, 8, 9, 7, 6, 10, 7, 9, 8, 6, 8, 8, 8, 8, 10, 9, 10, 10, 8, 7, 5, 8, 10, 9, 8, 8, 8, 8, 7, 8, 9, 9, 8, 10, 9, 7, 6, 9, 7, 10, 10, 6, 6, 9, 9, 5, 10, 7, 10, 7, 7, 8, 8, 7, 6, 9, 9, 8, 8, 9, 9, 9, 5, 6, 10, 6, 6, 10, 7, 9, 8, 8, 8, 6, 9, 7, 8, 10, 9, 9, 7, 10, 10, 10, 8, 8, 8, 8, 9, 8, 8, 9, 8, 10, 7, 9, 10, 8, 8, 10, 8, 9, 8, 7, 9, 9, 7, 9, 8, 10, 10, 6, 7, 10, 9, 10, 8, 11, 6, 9, 8, 7, 9, 9, 8, 9, 8, 6, 10, 8, 10, 7, 10, 9, 8, 8, 6, 7, 10, 9, 10, 8, 9, 7, 8, 9, 7, 10, 9, 9, 10, 8, 7, 10, 7, 10, 9, 8, 9, 5, 7, 10, 10, 6, 9, 8, 6, 8, 8, 9, 9, 8, 8, 7, 9, 8, 8, 9, 8, 8, 7, 6, 7, 6, 9, 8, 9, 9, 8, 9, 8, 8, 8, 7, 9, 7, 8, 8, 6, 8, 8, 10, 9, 7, 8, 7, 9, 9, 7, 8, 9, 9, 7, 7, 10, 7, 10, 5, 9, 8, 8, 6, 10, 9, 10, 8, 10, 10, 8, 9, 7, 9, 9, 8, 7, 8, 7, 8, 9, 9, 8, 8, 9, 3, 6, 7, 6, 8, 7, 9, 5, 8, 8, 6, 9, 6, 8, 6, 10, 7, 7, 5, 6, 8, 9, 10, 7, 9, 8, 7, 8, 9, 7, 9, 9, 8, 9, 8, 8, 6, 7, 8, 1, 7, 8, 8, 8, 8, 10, 5, 11, 8, 9, 9, 6, 8, 6, 7, 8, 7, 8, 9, 4, 10, 8, 8, 10, 9, 6, 8, 6, 8, 8, 9, 9, 8, 7, 10, 9, 8, 10, 7, 10, 10, 8, 6, 9, 9, 8, 10, 8, 8, 10, 9, 6, 7, 8, 9, 10, 8, 7, 6, 8, 7, 7, 7, 6, 8, 9, 7, 6, 9, 8, 7, 10, 8, 8, 8, 8, 7, 8, 7, 3, 9, 8, 7, 8, 10, 8, 7, 11, 8, 10, 8, 9, 8, 8, 10, 6, 10, 8, 7, 6, 5, 11, 8, 6, 9, 10, 8, 9, 9, 8, 8, 10, 8, 8, 6, 10, 8, 9, 8, 8, 8, 7, 9, 7, 7, 9, 8, 9, 9, 8, 8, 8, 4, 6, 6, 8, 11, 9, 8, 5, 7, 9, 8, 5, 6, 8, 9, 7, 9, 9, 8, 8, 7, 8, 6, 7, 8, 10, 8, 8, 9, 11, 8, 8, 7, 9, 10, 2, 9, 7, 8, 7, 9, 7, 7, 10, 8, 9, 8, 9, 7, 9, 10, 9, 8, 9, 7, 8, 10, 9, 9, 9, 9, 10, 9, 7, 10, 8, 8, 8, 9, 7, 8, 2, 7, 8, 9, 8, 8, 7, 10, 7, 7, 9, 7, 9, 8, 9, 9, 9, 9, 7, 9, 9, 7, 7, 9, 8, 7, 8, 9, 8, 7, 7, 9, 9, 9, 8, 8, 1, 9, 8, 6, 8, 8, 5, 7, 9, 6, 10, 7, 8, 9, 8, 9, 9, 7, 6, 7, 9, 8, 7, 8, 9, 10, 7, 7, 7, 8, 9, 8, 8, 9, 9, 8, 10, 6, 8, 8, 7, 9, 9, 6, 7, 9, 8, 9, 10, 7, 11, 10, 1, 6, 8, 7, 9, 6, 8, 10, 9, 9, 9, 10, 8, 9, 9, 5, 7, 10, 9, 9, 9, 8, 8, 11, 8, 9, 10, 10, 9, 7, 10, 9, 7, 10, 8, 10, 8, 9, 8, 10, 9, 9, 9, 10, 7, 10, 8, 8, 8, 9, 9, 5, 7, 10, 9, 8, 6, 9, 8, 9, 9, 9, 6, 10, 9, 9, 11, 2, 6, 10, 9, 8, 6, 8, 10, 6, 8, 6, 9, 6, 2, 8, 8, 9, 8, 8, 8, 9, 7, 6, 8, 7, 9, 7, 9, 1, 8, 8, 8, 8, 9, 8, 9, 7, 8, 8, 6, 8, 8, 10, 8, 9, 9, 8, 9, 9, 9, 7, 7, 6, 9, 8, 7, 10, 10, 3, 6, 7, 9, 6, 8, 11, 9, 9, 11, 8, 10, 7, 5, 9, 6, 9, 5, 8, 8, 8, 10, 7, 8, 10, 8, 9, 8, 9, 8, 9, 7, 9, 8, 9, 8, 8, 8, 10, 10, 9, 8, 9, 10, 7, 8, 9, 8, 7, 6, 10, 8, 7, 8, 9, 8, 8, 10, 9, 7, 9, 9, 9, 8, 9, 9, 9, 10, 8, 8, 7, 8, 8, 10, 11, 8, 8, 7, 9, 8, 9, 8, 7, 9, 7, 7, 7, 9, 7, 9, 6, 7, 9, 8, 8, 8, 10, 8, 6, 7, 6, 9, 10, 9, 10, 8, 10, 8, 6, 9, 8, 8, 9, 8, 7, 5, 9, 8, 8, 9, 8, 9, 7, 9, 6, 10, 9, 6, 7, 6, 9, 9, 8, 7, 8, 8, 9, 8, 8, 9, 9, 6, 9, 8, 8, 9, 9, 9, 9, 9, 8, 8, 9, 9, 9, 8, 7, 7, 7, 8, 8, 6, 9, 8, 8, 9, 7, 6, 8, 7, 9, 6, 6, 7, 6, 9, 10, 8, 8, 7, 10, 8, 8, 9, 7, 9, 7, 9, 8, 9, 7, 8, 6, 9, 7, 8, 6, 9, 6, 7, 7, 8, 10, 8, 4, 8, 9, 8, 9, 8, 10, 10]}],                        {\"template\": {\"data\": {\"bar\": [{\"error_x\": {\"color\": \"#2a3f5f\"}, \"error_y\": {\"color\": \"#2a3f5f\"}, \"marker\": {\"line\": {\"color\": \"#E5ECF6\", \"width\": 0.5}}, \"type\": \"bar\"}], \"barpolar\": [{\"marker\": {\"line\": {\"color\": \"#E5ECF6\", \"width\": 0.5}}, \"type\": \"barpolar\"}], \"carpet\": [{\"aaxis\": {\"endlinecolor\": \"#2a3f5f\", \"gridcolor\": \"white\", \"linecolor\": \"white\", \"minorgridcolor\": \"white\", \"startlinecolor\": \"#2a3f5f\"}, \"baxis\": {\"endlinecolor\": \"#2a3f5f\", \"gridcolor\": \"white\", \"linecolor\": \"white\", \"minorgridcolor\": \"white\", \"startlinecolor\": \"#2a3f5f\"}, \"type\": \"carpet\"}], \"choropleth\": [{\"colorbar\": {\"outlinewidth\": 0, \"ticks\": \"\"}, \"type\": \"choropleth\"}], \"contour\": [{\"colorbar\": {\"outlinewidth\": 0, \"ticks\": \"\"}, \"colorscale\": [[0.0, \"#0d0887\"], [0.1111111111111111, \"#46039f\"], [0.2222222222222222, \"#7201a8\"], [0.3333333333333333, \"#9c179e\"], [0.4444444444444444, \"#bd3786\"], [0.5555555555555556, \"#d8576b\"], [0.6666666666666666, \"#ed7953\"], [0.7777777777777778, \"#fb9f3a\"], [0.8888888888888888, \"#fdca26\"], [1.0, \"#f0f921\"]], \"type\": \"contour\"}], \"contourcarpet\": [{\"colorbar\": {\"outlinewidth\": 0, \"ticks\": \"\"}, \"type\": \"contourcarpet\"}], \"heatmap\": [{\"colorbar\": {\"outlinewidth\": 0, \"ticks\": \"\"}, \"colorscale\": [[0.0, \"#0d0887\"], [0.1111111111111111, \"#46039f\"], [0.2222222222222222, \"#7201a8\"], [0.3333333333333333, \"#9c179e\"], [0.4444444444444444, \"#bd3786\"], [0.5555555555555556, \"#d8576b\"], [0.6666666666666666, \"#ed7953\"], [0.7777777777777778, \"#fb9f3a\"], [0.8888888888888888, \"#fdca26\"], [1.0, \"#f0f921\"]], \"type\": \"heatmap\"}], \"heatmapgl\": [{\"colorbar\": {\"outlinewidth\": 0, \"ticks\": \"\"}, \"colorscale\": [[0.0, \"#0d0887\"], [0.1111111111111111, \"#46039f\"], [0.2222222222222222, \"#7201a8\"], [0.3333333333333333, \"#9c179e\"], [0.4444444444444444, \"#bd3786\"], [0.5555555555555556, \"#d8576b\"], [0.6666666666666666, \"#ed7953\"], [0.7777777777777778, \"#fb9f3a\"], [0.8888888888888888, \"#fdca26\"], [1.0, \"#f0f921\"]], \"type\": \"heatmapgl\"}], \"histogram\": [{\"marker\": {\"colorbar\": {\"outlinewidth\": 0, \"ticks\": \"\"}}, \"type\": \"histogram\"}], \"histogram2d\": [{\"colorbar\": {\"outlinewidth\": 0, \"ticks\": \"\"}, \"colorscale\": [[0.0, \"#0d0887\"], [0.1111111111111111, \"#46039f\"], [0.2222222222222222, \"#7201a8\"], [0.3333333333333333, \"#9c179e\"], [0.4444444444444444, \"#bd3786\"], [0.5555555555555556, \"#d8576b\"], [0.6666666666666666, \"#ed7953\"], [0.7777777777777778, \"#fb9f3a\"], [0.8888888888888888, \"#fdca26\"], [1.0, \"#f0f921\"]], \"type\": \"histogram2d\"}], \"histogram2dcontour\": [{\"colorbar\": {\"outlinewidth\": 0, \"ticks\": \"\"}, \"colorscale\": [[0.0, \"#0d0887\"], [0.1111111111111111, \"#46039f\"], [0.2222222222222222, \"#7201a8\"], [0.3333333333333333, \"#9c179e\"], [0.4444444444444444, \"#bd3786\"], [0.5555555555555556, \"#d8576b\"], [0.6666666666666666, \"#ed7953\"], [0.7777777777777778, \"#fb9f3a\"], [0.8888888888888888, \"#fdca26\"], [1.0, \"#f0f921\"]], \"type\": \"histogram2dcontour\"}], \"mesh3d\": [{\"colorbar\": {\"outlinewidth\": 0, \"ticks\": \"\"}, \"type\": \"mesh3d\"}], \"parcoords\": [{\"line\": {\"colorbar\": {\"outlinewidth\": 0, \"ticks\": \"\"}}, \"type\": \"parcoords\"}], \"pie\": [{\"automargin\": true, \"type\": \"pie\"}], \"scatter\": [{\"marker\": {\"colorbar\": {\"outlinewidth\": 0, \"ticks\": \"\"}}, \"type\": \"scatter\"}], \"scatter3d\": [{\"line\": {\"colorbar\": {\"outlinewidth\": 0, \"ticks\": \"\"}}, \"marker\": {\"colorbar\": {\"outlinewidth\": 0, \"ticks\": \"\"}}, \"type\": \"scatter3d\"}], \"scattercarpet\": [{\"marker\": {\"colorbar\": {\"outlinewidth\": 0, \"ticks\": \"\"}}, \"type\": \"scattercarpet\"}], \"scattergeo\": [{\"marker\": {\"colorbar\": {\"outlinewidth\": 0, \"ticks\": \"\"}}, \"type\": \"scattergeo\"}], \"scattergl\": [{\"marker\": {\"colorbar\": {\"outlinewidth\": 0, \"ticks\": \"\"}}, \"type\": \"scattergl\"}], \"scattermapbox\": [{\"marker\": {\"colorbar\": {\"outlinewidth\": 0, \"ticks\": \"\"}}, \"type\": \"scattermapbox\"}], \"scatterpolar\": [{\"marker\": {\"colorbar\": {\"outlinewidth\": 0, \"ticks\": \"\"}}, \"type\": \"scatterpolar\"}], \"scatterpolargl\": [{\"marker\": {\"colorbar\": {\"outlinewidth\": 0, \"ticks\": \"\"}}, \"type\": \"scatterpolargl\"}], \"scatterternary\": [{\"marker\": {\"colorbar\": {\"outlinewidth\": 0, \"ticks\": \"\"}}, \"type\": \"scatterternary\"}], \"surface\": [{\"colorbar\": {\"outlinewidth\": 0, \"ticks\": \"\"}, \"colorscale\": [[0.0, \"#0d0887\"], [0.1111111111111111, \"#46039f\"], [0.2222222222222222, \"#7201a8\"], [0.3333333333333333, \"#9c179e\"], [0.4444444444444444, \"#bd3786\"], [0.5555555555555556, \"#d8576b\"], [0.6666666666666666, \"#ed7953\"], [0.7777777777777778, \"#fb9f3a\"], [0.8888888888888888, \"#fdca26\"], [1.0, \"#f0f921\"]], \"type\": \"surface\"}], \"table\": [{\"cells\": {\"fill\": {\"color\": \"#EBF0F8\"}, \"line\": {\"color\": \"white\"}}, \"header\": {\"fill\": {\"color\": \"#C8D4E3\"}, \"line\": {\"color\": \"white\"}}, \"type\": \"table\"}]}, \"layout\": {\"annotationdefaults\": {\"arrowcolor\": \"#2a3f5f\", \"arrowhead\": 0, \"arrowwidth\": 1}, \"autotypenumbers\": \"strict\", \"coloraxis\": {\"colorbar\": {\"outlinewidth\": 0, \"ticks\": \"\"}}, \"colorscale\": {\"diverging\": [[0, \"#8e0152\"], [0.1, \"#c51b7d\"], [0.2, \"#de77ae\"], [0.3, \"#f1b6da\"], [0.4, \"#fde0ef\"], [0.5, \"#f7f7f7\"], [0.6, \"#e6f5d0\"], [0.7, \"#b8e186\"], [0.8, \"#7fbc41\"], [0.9, \"#4d9221\"], [1, \"#276419\"]], \"sequential\": [[0.0, \"#0d0887\"], [0.1111111111111111, \"#46039f\"], [0.2222222222222222, \"#7201a8\"], [0.3333333333333333, \"#9c179e\"], [0.4444444444444444, \"#bd3786\"], [0.5555555555555556, \"#d8576b\"], [0.6666666666666666, \"#ed7953\"], [0.7777777777777778, \"#fb9f3a\"], [0.8888888888888888, \"#fdca26\"], [1.0, \"#f0f921\"]], \"sequentialminus\": [[0.0, \"#0d0887\"], [0.1111111111111111, \"#46039f\"], [0.2222222222222222, \"#7201a8\"], [0.3333333333333333, \"#9c179e\"], [0.4444444444444444, \"#bd3786\"], [0.5555555555555556, \"#d8576b\"], [0.6666666666666666, \"#ed7953\"], [0.7777777777777778, \"#fb9f3a\"], [0.8888888888888888, \"#fdca26\"], [1.0, \"#f0f921\"]]}, \"colorway\": [\"#636efa\", \"#EF553B\", \"#00cc96\", \"#ab63fa\", \"#FFA15A\", \"#19d3f3\", \"#FF6692\", \"#B6E880\", \"#FF97FF\", \"#FECB52\"], \"font\": {\"color\": \"#2a3f5f\"}, \"geo\": {\"bgcolor\": \"white\", \"lakecolor\": \"white\", \"landcolor\": \"#E5ECF6\", \"showlakes\": true, \"showland\": true, \"subunitcolor\": \"white\"}, \"hoverlabel\": {\"align\": \"left\"}, \"hovermode\": \"closest\", \"mapbox\": {\"style\": \"light\"}, \"paper_bgcolor\": \"white\", \"plot_bgcolor\": \"#E5ECF6\", \"polar\": {\"angularaxis\": {\"gridcolor\": \"white\", \"linecolor\": \"white\", \"ticks\": \"\"}, \"bgcolor\": \"#E5ECF6\", \"radialaxis\": {\"gridcolor\": \"white\", \"linecolor\": \"white\", \"ticks\": \"\"}}, \"scene\": {\"xaxis\": {\"backgroundcolor\": \"#E5ECF6\", \"gridcolor\": \"white\", \"gridwidth\": 2, \"linecolor\": \"white\", \"showbackground\": true, \"ticks\": \"\", \"zerolinecolor\": \"white\"}, \"yaxis\": {\"backgroundcolor\": \"#E5ECF6\", \"gridcolor\": \"white\", \"gridwidth\": 2, \"linecolor\": \"white\", \"showbackground\": true, \"ticks\": \"\", \"zerolinecolor\": \"white\"}, \"zaxis\": {\"backgroundcolor\": \"#E5ECF6\", \"gridcolor\": \"white\", \"gridwidth\": 2, \"linecolor\": \"white\", \"showbackground\": true, \"ticks\": \"\", \"zerolinecolor\": \"white\"}}, \"shapedefaults\": {\"line\": {\"color\": \"#2a3f5f\"}}, \"ternary\": {\"aaxis\": {\"gridcolor\": \"white\", \"linecolor\": \"white\", \"ticks\": \"\"}, \"baxis\": {\"gridcolor\": \"white\", \"linecolor\": \"white\", \"ticks\": \"\"}, \"bgcolor\": \"#E5ECF6\", \"caxis\": {\"gridcolor\": \"white\", \"linecolor\": \"white\", \"ticks\": \"\"}}, \"title\": {\"x\": 0.05}, \"xaxis\": {\"automargin\": true, \"gridcolor\": \"white\", \"linecolor\": \"white\", \"ticks\": \"\", \"title\": {\"standoff\": 15}, \"zerolinecolor\": \"white\", \"zerolinewidth\": 2}, \"yaxis\": {\"automargin\": true, \"gridcolor\": \"white\", \"linecolor\": \"white\", \"ticks\": \"\", \"title\": {\"standoff\": 15}, \"zerolinecolor\": \"white\", \"zerolinewidth\": 2}}}},                        {\"responsive\": true}                    ).then(function(){\n",
       "                            \n",
       "var gd = document.getElementById('4c53e69d-55d4-4c2f-9cd3-505924926563');\n",
       "var x = new MutationObserver(function (mutations, observer) {{\n",
       "        var display = window.getComputedStyle(gd).display;\n",
       "        if (!display || display === 'none') {{\n",
       "            console.log([gd, 'removed!']);\n",
       "            Plotly.purge(gd);\n",
       "            observer.disconnect();\n",
       "        }}\n",
       "}});\n",
       "\n",
       "// Listen for the removal of the full notebook cells\n",
       "var notebookContainer = gd.closest('#notebook-container');\n",
       "if (notebookContainer) {{\n",
       "    x.observe(notebookContainer, {childList: true});\n",
       "}}\n",
       "\n",
       "// Listen for the clearing of the current output cell\n",
       "var outputEl = gd.closest('.output');\n",
       "if (outputEl) {{\n",
       "    x.observe(outputEl, {childList: true});\n",
       "}}\n",
       "\n",
       "                        })                };                });            </script>        </div>"
      ]
     },
     "metadata": {},
     "output_type": "display_data"
    }
   ],
   "source": [
    "fig = go.Figure(\n",
    "    data=[go.Histogram(x=tournament.scoreboard['hands'])]\n",
    ")\n",
    "fig.show()"
   ]
  },
  {
   "cell_type": "code",
   "execution_count": 39,
   "metadata": {},
   "outputs": [
    {
     "data": {
      "text/html": [
       "<div>\n",
       "<style scoped>\n",
       "    .dataframe tbody tr th:only-of-type {\n",
       "        vertical-align: middle;\n",
       "    }\n",
       "\n",
       "    .dataframe tbody tr th {\n",
       "        vertical-align: top;\n",
       "    }\n",
       "\n",
       "    .dataframe thead th {\n",
       "        text-align: right;\n",
       "    }\n",
       "</style>\n",
       "<table border=\"1\" class=\"dataframe\">\n",
       "  <thead>\n",
       "    <tr style=\"text-align: right;\">\n",
       "      <th></th>\n",
       "      <th>Team(A, B)</th>\n",
       "      <th>Team(C, D)</th>\n",
       "    </tr>\n",
       "    <tr>\n",
       "      <th>hand</th>\n",
       "      <th></th>\n",
       "      <th></th>\n",
       "    </tr>\n",
       "  </thead>\n",
       "  <tbody>\n",
       "    <tr>\n",
       "      <th>1</th>\n",
       "      <td>0</td>\n",
       "      <td>25</td>\n",
       "    </tr>\n",
       "  </tbody>\n",
       "</table>\n",
       "</div>"
      ],
      "text/plain": [
       "     Team(A, B) Team(C, D)\n",
       "hand                      \n",
       "1             0         25"
      ]
     },
     "execution_count": 39,
     "metadata": {},
     "output_type": "execute_result"
    }
   ],
   "source": [
    "tournament.matches[371].scoreboard"
   ]
  }
 ],
 "metadata": {
  "kernelspec": {
   "display_name": "Python 3",
   "language": "python",
   "name": "python3"
  },
  "language_info": {
   "codemirror_mode": {
    "name": "ipython",
    "version": 3
   },
   "file_extension": ".py",
   "mimetype": "text/x-python",
   "name": "python",
   "nbconvert_exporter": "python",
   "pygments_lexer": "ipython3",
   "version": "3.8.5"
  }
 },
 "nbformat": 4,
 "nbformat_minor": 4
}
