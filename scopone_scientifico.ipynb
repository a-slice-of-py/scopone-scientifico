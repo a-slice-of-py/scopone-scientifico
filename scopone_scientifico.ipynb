{
 "cells": [
  {
   "cell_type": "code",
   "execution_count": 2,
   "metadata": {},
   "outputs": [],
   "source": [
    "%load_ext autoreload\n",
    "%autoreload 2"
   ]
  },
  {
   "cell_type": "code",
   "execution_count": 131,
   "metadata": {},
   "outputs": [],
   "source": [
    "import plotly.graph_objects as go"
   ]
  },
  {
   "cell_type": "code",
   "execution_count": 4,
   "metadata": {},
   "outputs": [],
   "source": [
    "import scopone_scientifico as ss"
   ]
  },
  {
   "cell_type": "code",
   "execution_count": 135,
   "metadata": {},
   "outputs": [
    {
     "data": {
      "application/vnd.jupyter.widget-view+json": {
       "model_id": "d44146c3ea634836b4253315dc6f86d4",
       "version_major": 2,
       "version_minor": 0
      },
      "text/plain": [
       "HBox(children=(HTML(value='Partite: '), FloatProgress(value=0.0, max=1.0), HTML(value='')))"
      ]
     },
     "metadata": {},
     "output_type": "display_data"
    },
    {
     "name": "stdout",
     "output_type": "stream",
     "text": [
      "\n"
     ]
    },
    {
     "data": {
      "text/html": [
       "<i>Turno 1</i><br>A gioca 5♢.<br>D gioca A♡.<br>B gioca 2♢.<br>C gioca K♡.<br><br><i>Turno 2</i><br>A prende [K♡] da [5♢, A♡, 2♢, K♡] giocando K♢.<br>D prende [A♡] da [5♢, A♡, 2♢] giocando A♣.<br>B gioca K♣.<br>C gioca Q♡.<br><br><i>Turno 3</i><br>A prende [2♢] da [5♢, 2♢, K♣, Q♡] giocando 2♣.<br>D gioca J♢.<br>B gioca 6♡.<br>C gioca 3♠.<br><br><i>Turno 4</i><br>A prende [J♢] da [5♢, K♣, Q♡, J♢, 6♡, 3♠] giocando J♡.<br>D prende [5♢] da [6♡, 3♠, Q♡, 5♢, K♣] giocando 5♣.<br>B gioca J♣.<br>C prende [Q♡] da [6♡, K♣, Q♡, 3♠, J♣] giocando Q♣.<br><br><i>Turno 5</i><br>A prende [6♡, 3♠] da [6♡, J♣, K♣, 3♠] giocando Q♢.<br>D gioca A♢.<br>B prende [A♢] da [J♣, K♣, A♢] giocando A♠.<br>C gioca 7♠.<br><br><i>Turno 6</i><br>A prende [7♠] da [J♣, K♣, 7♠] giocando 7♣.<br>D prende [K♣] da [J♣, K♣] giocando K♠.<br>B gioca 7♢.<br>C gioca 5♠.<br><br><i>Turno 7</i><br>A gioca 2♠.<br>D gioca 6♣.<br>B prende [7♢, 2♠] da [J♣, 7♢, 5♠, 2♠, 6♣] giocando Q♠.<br>C gioca 4♡.<br><br><i>Turno 8</i><br>A gioca 2♡.<br>D prende [4♡] da [J♣, 5♠, 6♣, 4♡, 2♡] giocando 4♠.<br>B gioca 4♢.<br>C prende [6♣] da [J♣, 2♡, 5♠, 6♣, 4♢] giocando 6♠.<br><br><i>Turno 9</i><br>A gioca 3♡.<br>D prende [J♣] da [J♣, 4♢, 5♠, 2♡, 3♡] giocando J♠.<br>B prende [3♡] da [3♡, 4♢, 5♠, 2♡] giocando 3♣.<br>C gioca 3♢.<br><br><i>Turno 10</i><br>A prende [4♢, 2♡] da [4♢, 5♠, 2♡, 3♢] giocando 6♢.<br>D gioca 4♣.<br>B prende [5♠] da [5♠, 3♢, 4♣] giocando 5♡.<br>C prende [3♢, 4♣] da [3♢, 4♣] giocando 7♡. <b>SCOPA!</b><br><br><i>Prese</i><br>C ➜ [Q♡, Q♣, 6♣, 6♠, 3♢, 4♣, 7♡]<br>D ➜ [A♡, A♣, 5♢, 5♣, K♣, K♠, 4♡, 4♠, J♣, J♠]<br>A ➜ [K♡, K♢, 2♢, 2♣, J♢, J♡, 6♡, 3♠, Q♢, 7♠, 7♣, 4♢, 2♡, 6♢]<br>B ➜ [A♢, A♠, 7♢, 2♠, Q♠, 3♡, 3♣, 5♠, 5♡]<br><br><i>Punti Team(C, D)</i><br>+1 scope<br><br><i>Punti Team(A, B)</i><br>+1 carte<br>+1 denari<br>+1 settebello<br>+1 primiera<br>"
      ],
      "text/plain": [
       "<IPython.core.display.HTML object>"
      ]
     },
     "execution_count": 135,
     "metadata": {},
     "output_type": "execute_result"
    }
   ],
   "source": [
    "tournament = ss.Tournament(\n",
    "    team1=('A', 'B'), \n",
    "    team2=('C', 'D'),\n",
    "    n_match=1\n",
    ")\n",
    "\n",
    "tournament.run()\n",
    "tournament.matches[0].hands[0].show_logs()"
   ]
  },
  {
   "cell_type": "code",
   "execution_count": 130,
   "metadata": {},
   "outputs": [],
   "source": [
    "# fig = go.Figure(\n",
    "#     data=[go.Histogram(x=tournament.scoreboard['hands'])]\n",
    "# )\n",
    "# fig.show()"
   ]
  }
 ],
 "metadata": {
  "kernelspec": {
   "display_name": "Python 3",
   "language": "python",
   "name": "python3"
  },
  "language_info": {
   "codemirror_mode": {
    "name": "ipython",
    "version": 3
   },
   "file_extension": ".py",
   "mimetype": "text/x-python",
   "name": "python",
   "nbconvert_exporter": "python",
   "pygments_lexer": "ipython3",
   "version": "3.8.5"
  }
 },
 "nbformat": 4,
 "nbformat_minor": 4
}
